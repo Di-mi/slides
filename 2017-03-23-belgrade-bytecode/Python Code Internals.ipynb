{
 "cells": [
  {
   "cell_type": "markdown",
   "metadata": {
    "deletable": true,
    "editable": true
   },
   "source": [
    "# CPython compilation & bytecode\n",
    "\n",
    "So, you wrote some Python code. What needs to happen before it starts running? How is it represented before and during execution? Find answers here.\n",
    "\n",
    "Note: Everything here is specific to CPython – the reference implementation. Other Python interpreters, like PyPy, Jython or Batavia, do things very differently."
   ]
  },
  {
   "cell_type": "code",
   "execution_count": null,
   "metadata": {
    "collapsed": true,
    "deletable": true,
    "editable": true
   },
   "outputs": [],
   "source": [
    "\n",
    "\n",
    "\n",
    "\n",
    "\n",
    "\n",
    "\n",
    "\n",
    "\n",
    "\n",
    "\n",
    "\n",
    "\n",
    "\n",
    "\n",
    "\n",
    "\n",
    "\n",
    "\n",
    "\n",
    "\n",
    "\n",
    "\n",
    "\n",
    "\n",
    "\n",
    "\n",
    "\n",
    "\n",
    "\n",
    "\n",
    "\n",
    "\n",
    "\n",
    "\n",
    "\n",
    "\n"
   ]
  },
  {
   "cell_type": "code",
   "execution_count": 1,
   "metadata": {
    "collapsed": true,
    "deletable": true,
    "editable": true
   },
   "outputs": [],
   "source": [
    "import os\n",
    "import sys\n",
    "import dis\n",
    "import time\n",
    "import inspect\n",
    "import datetime"
   ]
  },
  {
   "cell_type": "code",
   "execution_count": 2,
   "metadata": {
    "collapsed": false
   },
   "outputs": [
    {
     "name": "stdout",
     "output_type": "stream",
     "text": [
      "3.6.0 (default, Jan 31 2017, 00:05:46) \n",
      "[GCC 6.3.1 20161221 (Red Hat 6.3.1-1)]\n"
     ]
    }
   ],
   "source": [
    "print(sys.version)"
   ]
  },
  {
   "cell_type": "markdown",
   "metadata": {
    "deletable": true,
    "editable": true
   },
   "source": [
    "---\n",
    "# Lexical analysis\n",
    "(tokenization)"
   ]
  },
  {
   "cell_type": "code",
   "execution_count": 3,
   "metadata": {
    "collapsed": true,
    "deletable": true,
    "editable": true
   },
   "outputs": [],
   "source": [
    "import tokenize"
   ]
  },
  {
   "cell_type": "code",
   "execution_count": 4,
   "metadata": {
    "collapsed": false,
    "deletable": true,
    "editable": true
   },
   "outputs": [
    {
     "name": "stdout",
     "output_type": "stream",
     "text": [
      "     1\ta = 3\r\n",
      "     2\tb = 'Hello '\r\n",
      "     3\tprint(a * b)\r\n",
      "     4\t\r\n",
      "     5\tdef func(a=1, *b, **c):\r\n",
      "     6\t    return 7 + 3\r\n"
     ]
    }
   ],
   "source": [
    "!cat -n module.py"
   ]
  },
  {
   "cell_type": "code",
   "execution_count": 5,
   "metadata": {
    "collapsed": false,
    "deletable": true,
    "editable": true
   },
   "outputs": [
    {
     "name": "stdout",
     "output_type": "stream",
     "text": [
      "0,0-0,0:            ENCODING       'utf-8'        \r\n",
      "1,0-1,1:            NAME           'a'            \r\n",
      "1,2-1,3:            OP             '='            \r\n",
      "1,4-1,5:            NUMBER         '3'            \r\n",
      "1,5-1,6:            NEWLINE        '\\n'           \r\n",
      "2,0-2,1:            NAME           'b'            \r\n",
      "2,2-2,3:            OP             '='            \r\n",
      "2,4-2,12:           STRING         \"'Hello '\"     \r\n",
      "2,12-2,13:          NEWLINE        '\\n'           \r\n",
      "3,0-3,5:            NAME           'print'        \r\n",
      "3,5-3,6:            OP             '('            \r\n",
      "3,6-3,7:            NAME           'a'            \r\n",
      "3,8-3,9:            OP             '*'            \r\n",
      "3,10-3,11:          NAME           'b'            \r\n",
      "3,11-3,12:          OP             ')'            \r\n",
      "3,12-3,13:          NEWLINE        '\\n'           \r\n",
      "4,0-4,1:            NL             '\\n'           \r\n",
      "5,0-5,3:            NAME           'def'          \r\n",
      "5,4-5,8:            NAME           'func'         \r\n",
      "5,8-5,9:            OP             '('            \r\n",
      "5,9-5,10:           NAME           'a'            \r\n",
      "5,10-5,11:          OP             '='            \r\n",
      "5,11-5,12:          NUMBER         '1'            \r\n",
      "5,12-5,13:          OP             ','            \r\n",
      "5,14-5,15:          OP             '*'            \r\n",
      "5,15-5,16:          NAME           'b'            \r\n",
      "5,16-5,17:          OP             ','            \r\n",
      "5,18-5,20:          OP             '**'           \r\n",
      "5,20-5,21:          NAME           'c'            \r\n",
      "5,21-5,22:          OP             ')'            \r\n",
      "5,22-5,23:          OP             ':'            \r\n",
      "5,23-5,24:          NEWLINE        '\\n'           \r\n",
      "6,0-6,4:            INDENT         '    '         \r\n",
      "6,4-6,10:           NAME           'return'       \r\n",
      "6,11-6,12:          NUMBER         '7'            \r\n",
      "6,13-6,14:          OP             '+'            \r\n",
      "6,15-6,16:          NUMBER         '3'            \r\n",
      "6,16-6,17:          NEWLINE        '\\n'           \r\n",
      "7,0-7,0:            DEDENT         ''             \r\n",
      "7,0-7,0:            ENDMARKER      ''             \r\n"
     ]
    }
   ],
   "source": [
    "!python3 -m tokenize module.py"
   ]
  },
  {
   "cell_type": "code",
   "execution_count": 6,
   "metadata": {
    "collapsed": false,
    "deletable": true,
    "editable": true
   },
   "outputs": [
    {
     "name": "stdout",
     "output_type": "stream",
     "text": [
      "TokenInfo(type=59 (ENCODING), string='utf-8', start=(0, 0), end=(0, 0), line='')\n",
      "TokenInfo(type=1 (NAME), string='a', start=(1, 0), end=(1, 1), line='a = 3\\n')\n",
      "TokenInfo(type=53 (OP), string='=', start=(1, 2), end=(1, 3), line='a = 3\\n')\n",
      "TokenInfo(type=2 (NUMBER), string='3', start=(1, 4), end=(1, 5), line='a = 3\\n')\n",
      "TokenInfo(type=4 (NEWLINE), string='\\n', start=(1, 5), end=(1, 6), line='a = 3\\n')\n",
      "TokenInfo(type=1 (NAME), string='b', start=(2, 0), end=(2, 1), line=\"b = 'Hello '\\n\")\n",
      "TokenInfo(type=53 (OP), string='=', start=(2, 2), end=(2, 3), line=\"b = 'Hello '\\n\")\n",
      "TokenInfo(type=3 (STRING), string=\"'Hello '\", start=(2, 4), end=(2, 12), line=\"b = 'Hello '\\n\")\n",
      "TokenInfo(type=4 (NEWLINE), string='\\n', start=(2, 12), end=(2, 13), line=\"b = 'Hello '\\n\")\n",
      "TokenInfo(type=1 (NAME), string='print', start=(3, 0), end=(3, 5), line='print(a * b)\\n')\n",
      "TokenInfo(type=53 (OP), string='(', start=(3, 5), end=(3, 6), line='print(a * b)\\n')\n",
      "TokenInfo(type=1 (NAME), string='a', start=(3, 6), end=(3, 7), line='print(a * b)\\n')\n",
      "TokenInfo(type=53 (OP), string='*', start=(3, 8), end=(3, 9), line='print(a * b)\\n')\n",
      "TokenInfo(type=1 (NAME), string='b', start=(3, 10), end=(3, 11), line='print(a * b)\\n')\n",
      "TokenInfo(type=53 (OP), string=')', start=(3, 11), end=(3, 12), line='print(a * b)\\n')\n",
      "TokenInfo(type=4 (NEWLINE), string='\\n', start=(3, 12), end=(3, 13), line='print(a * b)\\n')\n",
      "TokenInfo(type=58 (NL), string='\\n', start=(4, 0), end=(4, 1), line='\\n')\n",
      "TokenInfo(type=1 (NAME), string='def', start=(5, 0), end=(5, 3), line='def func(a=1, *b, **c):\\n')\n",
      "TokenInfo(type=1 (NAME), string='func', start=(5, 4), end=(5, 8), line='def func(a=1, *b, **c):\\n')\n",
      "TokenInfo(type=53 (OP), string='(', start=(5, 8), end=(5, 9), line='def func(a=1, *b, **c):\\n')\n",
      "TokenInfo(type=1 (NAME), string='a', start=(5, 9), end=(5, 10), line='def func(a=1, *b, **c):\\n')\n",
      "TokenInfo(type=53 (OP), string='=', start=(5, 10), end=(5, 11), line='def func(a=1, *b, **c):\\n')\n",
      "TokenInfo(type=2 (NUMBER), string='1', start=(5, 11), end=(5, 12), line='def func(a=1, *b, **c):\\n')\n",
      "TokenInfo(type=53 (OP), string=',', start=(5, 12), end=(5, 13), line='def func(a=1, *b, **c):\\n')\n",
      "TokenInfo(type=53 (OP), string='*', start=(5, 14), end=(5, 15), line='def func(a=1, *b, **c):\\n')\n",
      "TokenInfo(type=1 (NAME), string='b', start=(5, 15), end=(5, 16), line='def func(a=1, *b, **c):\\n')\n",
      "TokenInfo(type=53 (OP), string=',', start=(5, 16), end=(5, 17), line='def func(a=1, *b, **c):\\n')\n",
      "TokenInfo(type=53 (OP), string='**', start=(5, 18), end=(5, 20), line='def func(a=1, *b, **c):\\n')\n",
      "TokenInfo(type=1 (NAME), string='c', start=(5, 20), end=(5, 21), line='def func(a=1, *b, **c):\\n')\n",
      "TokenInfo(type=53 (OP), string=')', start=(5, 21), end=(5, 22), line='def func(a=1, *b, **c):\\n')\n",
      "TokenInfo(type=53 (OP), string=':', start=(5, 22), end=(5, 23), line='def func(a=1, *b, **c):\\n')\n",
      "TokenInfo(type=4 (NEWLINE), string='\\n', start=(5, 23), end=(5, 24), line='def func(a=1, *b, **c):\\n')\n",
      "TokenInfo(type=5 (INDENT), string='    ', start=(6, 0), end=(6, 4), line='    return 7 + 3\\n')\n",
      "TokenInfo(type=1 (NAME), string='return', start=(6, 4), end=(6, 10), line='    return 7 + 3\\n')\n",
      "TokenInfo(type=2 (NUMBER), string='7', start=(6, 11), end=(6, 12), line='    return 7 + 3\\n')\n",
      "TokenInfo(type=53 (OP), string='+', start=(6, 13), end=(6, 14), line='    return 7 + 3\\n')\n",
      "TokenInfo(type=2 (NUMBER), string='3', start=(6, 15), end=(6, 16), line='    return 7 + 3\\n')\n",
      "TokenInfo(type=4 (NEWLINE), string='\\n', start=(6, 16), end=(6, 17), line='    return 7 + 3\\n')\n",
      "TokenInfo(type=6 (DEDENT), string='', start=(7, 0), end=(7, 0), line='')\n",
      "TokenInfo(type=0 (ENDMARKER), string='', start=(7, 0), end=(7, 0), line='')\n"
     ]
    }
   ],
   "source": [
    " with open('module.py' ,'rb') as f:\n",
    "    for token in tokenize.tokenize(f.readline):\n",
    "        print(token)"
   ]
  },
  {
   "cell_type": "markdown",
   "metadata": {
    "deletable": true,
    "editable": true
   },
   "source": [
    "### Summary\n",
    "\n",
    "When Python reads source code, it first converts it to a stream of *tokens* – word-like units of a language.\n",
    "\n",
    "Two of Python's tokens are fairly unique among programming languages: `INDENT` and `DEDENT`."
   ]
  },
  {
   "cell_type": "markdown",
   "metadata": {
    "deletable": true,
    "editable": true
   },
   "source": [
    "---\n",
    "\n",
    "# Parsing\n",
    "(Abstract Syntax Tree)"
   ]
  },
  {
   "cell_type": "code",
   "execution_count": 7,
   "metadata": {
    "collapsed": true,
    "deletable": true,
    "editable": true
   },
   "outputs": [],
   "source": [
    "import ast"
   ]
  },
  {
   "cell_type": "code",
   "execution_count": 8,
   "metadata": {
    "collapsed": false,
    "deletable": true,
    "editable": true
   },
   "outputs": [
    {
     "name": "stdout",
     "output_type": "stream",
     "text": [
      "     1\ta = 3\r\n",
      "     2\tb = 'Hello '\r\n",
      "     3\tprint(a * b)\r\n",
      "     4\t\r\n",
      "     5\tdef func(a=1, *b, **c):\r\n",
      "     6\t    return 7 + 3\r\n"
     ]
    }
   ],
   "source": [
    "!cat -n module.py"
   ]
  },
  {
   "cell_type": "code",
   "execution_count": 9,
   "metadata": {
    "collapsed": false,
    "deletable": true,
    "editable": true
   },
   "outputs": [
    {
     "name": "stdout",
     "output_type": "stream",
     "text": [
      "<_ast.Module object at 0x7fc7bc9142e8>\n"
     ]
    }
   ],
   "source": [
    "with open('module.py' ,'rb') as f:\n",
    "    tree = ast.parse(f.read())\n",
    "\n",
    "print(tree)"
   ]
  },
  {
   "cell_type": "code",
   "execution_count": 10,
   "metadata": {
    "collapsed": false,
    "deletable": true,
    "editable": true
   },
   "outputs": [
    {
     "name": "stdout",
     "output_type": "stream",
     "text": [
      "('body',)\n"
     ]
    }
   ],
   "source": [
    "print(tree._fields)"
   ]
  },
  {
   "cell_type": "code",
   "execution_count": 11,
   "metadata": {
    "collapsed": false,
    "deletable": true,
    "editable": true
   },
   "outputs": [
    {
     "name": "stdout",
     "output_type": "stream",
     "text": [
      "1 <_ast.Assign object at 0x7fc7bc914320>\n",
      "2 <_ast.Assign object at 0x7fc7bc914438>\n",
      "3 <_ast.Expr object at 0x7fc7bc9144e0>\n",
      "5 <_ast.FunctionDef object at 0x7fc7bc914630>\n"
     ]
    }
   ],
   "source": [
    "for node in tree.body:\n",
    "    print(node.lineno, node)"
   ]
  },
  {
   "cell_type": "code",
   "execution_count": 12,
   "metadata": {
    "collapsed": false,
    "deletable": true,
    "editable": true,
    "scrolled": false
   },
   "outputs": [
    {
     "name": "stdout",
     "output_type": "stream",
     "text": [
      "Module\n",
      "  .body: [\n",
      "    Assign\n",
      "      .targets: [\n",
      "        Name\n",
      "          .id = 'a'\n",
      "          .ctx:\n",
      "            Store\n",
      "      ]\n",
      "      .value:\n",
      "        Num\n",
      "          .n = 3\n",
      "    Assign\n",
      "      .targets: [\n",
      "        Name\n",
      "          .id = 'b'\n",
      "          .ctx:\n",
      "            Store\n",
      "      ]\n",
      "      .value:\n",
      "        Str\n",
      "          .s = 'Hello '\n",
      "    Expr\n",
      "      .value:\n",
      "        Call\n",
      "          .func:\n",
      "            Name\n",
      "              .id = 'print'\n",
      "              .ctx:\n",
      "                Load\n",
      "          .args: [\n",
      "            BinOp\n",
      "              .left:\n",
      "                Name\n",
      "                  .id = 'a'\n",
      "                  .ctx:\n",
      "                    Load\n",
      "              .op:\n",
      "                Mult\n",
      "              .right:\n",
      "                Name\n",
      "                  .id = 'b'\n",
      "                  .ctx:\n",
      "                    Load\n",
      "          ]\n",
      "          .keywords: []\n",
      "    FunctionDef\n",
      "      .name = 'func'\n",
      "      .args:\n",
      "        arguments\n",
      "          .args: [\n",
      "            arg\n",
      "              .arg = 'a'\n",
      "              .annotation = None\n",
      "          ]\n",
      "          .vararg:\n",
      "            arg\n",
      "              .arg = 'b'\n",
      "              .annotation = None\n",
      "          .kwonlyargs: []\n",
      "          .kw_defaults: []\n",
      "          .kwarg:\n",
      "            arg\n",
      "              .arg = 'c'\n",
      "              .annotation = None\n",
      "          .defaults: [\n",
      "            Num\n",
      "              .n = 1\n",
      "          ]\n",
      "      .body: [\n",
      "        Return\n",
      "          .value:\n",
      "            BinOp\n",
      "              .left:\n",
      "                Num\n",
      "                  .n = 7\n",
      "              .op:\n",
      "                Add\n",
      "              .right:\n",
      "                Num\n",
      "                  .n = 3\n",
      "      ]\n",
      "      .decorator_list: []\n",
      "      .returns = None\n",
      "  ]\n"
     ]
    }
   ],
   "source": [
    "def dump_ast(node, indent=''):\n",
    "    print('{}{}'.format(indent, type(node).__name__))\n",
    "    for name, value in ast.iter_fields(node):\n",
    "        if isinstance(value, ast.AST):\n",
    "            print('{}  .{}:'.format(indent, name))\n",
    "            dump_ast(value, indent + '    ')\n",
    "        elif isinstance(value, list):\n",
    "            if not value:\n",
    "                print('{}  .{}: []'.format(indent, name))\n",
    "            else:\n",
    "                print('{}  .{}: ['.format(indent, name))\n",
    "                for child in value:\n",
    "                    dump_ast(child, indent + '    ')\n",
    "                print('{}  ]'.format(indent))\n",
    "        else:\n",
    "            print('{}  .{} = {}'.format(indent, name, repr(value)))\n",
    "\n",
    "dump_ast(tree)"
   ]
  },
  {
   "cell_type": "markdown",
   "metadata": {
    "deletable": true,
    "editable": true
   },
   "source": [
    "See also: \"Full Grammar Specification\" in the Python docs\n",
    "\n",
    "## Summary\n",
    "\n",
    "The token stream is parsed, using Python's grammar, to arrive at the Abstract Syntax Tree – a graph-like representation of the program.\n",
    "\n",
    "It is possible to modify the AST, or generate it programmatically (even though the tools in the standard library aren't too usable). People have used this to add Lisp-like macros to Python, for example."
   ]
  },
  {
   "cell_type": "markdown",
   "metadata": {
    "deletable": true,
    "editable": true
   },
   "source": [
    "---\n",
    "# Code Objects"
   ]
  },
  {
   "cell_type": "code",
   "execution_count": 13,
   "metadata": {
    "collapsed": false,
    "deletable": true,
    "editable": true
   },
   "outputs": [
    {
     "name": "stdout",
     "output_type": "stream",
     "text": [
      "a = 3\r\n",
      "b = 'Hello '\r\n",
      "print(a * b)\r\n",
      "\r\n",
      "def func(a=1, *b, **c):\r\n",
      "    return 7 + 3\r\n"
     ]
    }
   ],
   "source": [
    "!cat module.py"
   ]
  },
  {
   "cell_type": "code",
   "execution_count": 14,
   "metadata": {
    "collapsed": false,
    "deletable": true,
    "editable": true
   },
   "outputs": [
    {
     "name": "stdout",
     "output_type": "stream",
     "text": [
      "/home/pviktori/dev/slides/2017-03-23-belgrade-bytecode/module.py\n"
     ]
    }
   ],
   "source": [
    "filename = os.path.abspath('module.py')\n",
    "print(filename)"
   ]
  },
  {
   "cell_type": "code",
   "execution_count": 15,
   "metadata": {
    "collapsed": false,
    "deletable": true,
    "editable": true
   },
   "outputs": [
    {
     "name": "stdout",
     "output_type": "stream",
     "text": [
      "<code object <module> at 0x7fc7bd137e40, file \"/home/pviktori/dev/slides/2017-03-23-belgrade-bytecode/module.py\", line 1>\n"
     ]
    }
   ],
   "source": [
    "code = compile(tree, filename=filename, mode='exec')\n",
    "\n",
    "print(code)"
   ]
  },
  {
   "cell_type": "code",
   "execution_count": 16,
   "metadata": {
    "collapsed": false,
    "deletable": true,
    "editable": true
   },
   "outputs": [
    {
     "name": "stdout",
     "output_type": "stream",
     "text": [
      "Hello Hello Hello \n"
     ]
    }
   ],
   "source": [
    "exec(code)"
   ]
  },
  {
   "cell_type": "code",
   "execution_count": 17,
   "metadata": {
    "collapsed": false,
    "deletable": true,
    "editable": true
   },
   "outputs": [
    {
     "name": "stdout",
     "output_type": "stream",
     "text": [
      "<code object <module> at 0x7fc7bd137e40, file \"/home/pviktori/dev/slides/2017-03-23-belgrade-bytecode/module.py\", line 1>\n",
      "  co_argcount: 0\n",
      "  co_cellvars: ()\n",
      "  co_code: b'd\\x00Z\\x00d\\x01Z\\x01e\\x02e\\x00e\\x01\\x14\\x00\\x83\\x01\\x01\\x00d\\x06d\\x03d\\x04\\x84\\x01Z\\x03d\\x05S\\x00'\n",
      "  co_consts: (3, 'Hello ', 1, <code object func at 0x7fc7bd137ed0, file \"/home/pviktori/dev/slides/2017-03-23-belgrade-bytecode/module.py\", line 5>, 'func', None, (1,))\n",
      "  co_filename: /home/pviktori/dev/slides/2017-03-23-belgrade-bytecode/module.py\n",
      "  co_firstlineno: 1\n",
      "  co_flags: 64\n",
      "  co_freevars: ()\n",
      "  co_kwonlyargcount: 0\n",
      "  co_lnotab: b'\\x04\\x01\\x04\\x01\\x0c\\x02'\n",
      "  co_name: <module>\n",
      "  co_names: ('a', 'b', 'print', 'func')\n",
      "  co_nlocals: 0\n",
      "  co_stacksize: 3\n",
      "  co_varnames: ()\n"
     ]
    }
   ],
   "source": [
    "def dump_code_attrs(code):\n",
    "    print(code)\n",
    "    for attr_name in dir(code):\n",
    "        if not attr_name.startswith('__'):\n",
    "            print('  {}: {}'.format(attr_name, getattr(code, attr_name)))\n",
    "\n",
    "dump_code_attrs(code)"
   ]
  },
  {
   "cell_type": "code",
   "execution_count": 18,
   "metadata": {
    "collapsed": false
   },
   "outputs": [
    {
     "name": "stdout",
     "output_type": "stream",
     "text": [
      "Name:              <module>\n",
      "Filename:          /home/pviktori/dev/slides/2017-03-23-belgrade-bytecode/module.py\n",
      "Argument count:    0\n",
      "Kw-only arguments: 0\n",
      "Number of locals:  0\n",
      "Stack size:        3\n",
      "Flags:             NOFREE\n",
      "Constants:\n",
      "   0: 3\n",
      "   1: 'Hello '\n",
      "   2: 1\n",
      "   3: <code object func at 0x7fc7bd137ed0, file \"/home/pviktori/dev/slides/2017-03-23-belgrade-bytecode/module.py\", line 5>\n",
      "   4: 'func'\n",
      "   5: None\n",
      "   6: (1,)\n",
      "Names:\n",
      "   0: a\n",
      "   1: b\n",
      "   2: print\n",
      "   3: func\n"
     ]
    }
   ],
   "source": [
    "print(dis.code_info(code))"
   ]
  },
  {
   "cell_type": "code",
   "execution_count": 19,
   "metadata": {
    "collapsed": false,
    "deletable": true,
    "editable": true
   },
   "outputs": [
    {
     "name": "stdout",
     "output_type": "stream",
     "text": [
      "<code object func at 0x7fc7bd137ed0, file \"/home/pviktori/dev/slides/2017-03-23-belgrade-bytecode/module.py\", line 5>\n",
      "  co_argcount: 1\n",
      "  co_cellvars: ()\n",
      "  co_code: b'd\\x03S\\x00'\n",
      "  co_consts: (None, 7, 3, 10)\n",
      "  co_filename: /home/pviktori/dev/slides/2017-03-23-belgrade-bytecode/module.py\n",
      "  co_firstlineno: 5\n",
      "  co_flags: 79\n",
      "  co_freevars: ()\n",
      "  co_kwonlyargcount: 0\n",
      "  co_lnotab: b'\\x00\\x01'\n",
      "  co_name: func\n",
      "  co_names: ()\n",
      "  co_nlocals: 3\n",
      "  co_stacksize: 2\n",
      "  co_varnames: ('a', 'b', 'c')\n",
      "Name:              func\n",
      "Filename:          /home/pviktori/dev/slides/2017-03-23-belgrade-bytecode/module.py\n",
      "Argument count:    1\n",
      "Kw-only arguments: 0\n",
      "Number of locals:  3\n",
      "Stack size:        2\n",
      "Flags:             OPTIMIZED, NEWLOCALS, VARARGS, VARKEYWORDS, NOFREE\n",
      "Constants:\n",
      "   0: None\n",
      "   1: 7\n",
      "   2: 3\n",
      "   3: 10\n",
      "Variable names:\n",
      "   0: a\n",
      "   1: b\n",
      "   2: c\n"
     ]
    }
   ],
   "source": [
    "func_code = code.co_consts[3]\n",
    "dump_code_attrs(func_code)\n",
    "print(dis.code_info(func_code))"
   ]
  },
  {
   "cell_type": "markdown",
   "metadata": {
    "deletable": true,
    "editable": true
   },
   "source": [
    "### Summary\n",
    "The Abstract Syntax Tree can be compiled down to a *code object*, a structure that holds all details of the program in a compact form – ready to be executed or saved.\n",
    "\n",
    "The code objects contains, among other things, variable names and constants used in the code. Functions defined in the code are also represented as constants: other code objects!"
   ]
  },
  {
   "cell_type": "markdown",
   "metadata": {
    "deletable": true,
    "editable": true
   },
   "source": [
    "---\n",
    "# Bytecode"
   ]
  },
  {
   "cell_type": "code",
   "execution_count": 20,
   "metadata": {
    "collapsed": false,
    "deletable": true,
    "editable": true
   },
   "outputs": [
    {
     "name": "stdout",
     "output_type": "stream",
     "text": [
      "a = 3\r\n",
      "b = 'Hello '\r\n",
      "print(a * b)\r\n",
      "\r\n",
      "def func(a=1, *b, **c):\r\n",
      "    return 7 + 3\r\n"
     ]
    }
   ],
   "source": [
    "!cat module.py"
   ]
  },
  {
   "cell_type": "code",
   "execution_count": 22,
   "metadata": {
    "collapsed": false
   },
   "outputs": [
    {
     "data": {
      "text/plain": [
       "b'd\\x00Z\\x00d\\x01Z\\x01e\\x02e\\x00e\\x01\\x14\\x00\\x83\\x01\\x01\\x00d\\x06d\\x03d\\x04\\x84\\x01Z\\x03d\\x05S\\x00'"
      ]
     },
     "execution_count": 22,
     "metadata": {},
     "output_type": "execute_result"
    }
   ],
   "source": [
    "code.co_code"
   ]
  },
  {
   "cell_type": "code",
   "execution_count": 21,
   "metadata": {
    "collapsed": false,
    "deletable": true,
    "editable": true
   },
   "outputs": [
    {
     "name": "stdout",
     "output_type": "stream",
     "text": [
      "[100, 0, 90, 0, 100, 1, 90, 1, 101, 2, 101, 0, 101, 1, 20, 0, 131, 1, 1, 0, 100, 6, 100, 3, 100, 4, 132, 1, 90, 3, 100, 5, 83, 0]\n"
     ]
    }
   ],
   "source": [
    "print(list(b for b in code.co_code))"
   ]
  },
  {
   "cell_type": "code",
   "execution_count": 23,
   "metadata": {
    "collapsed": false,
    "scrolled": false
   },
   "outputs": [
    {
     "name": "stdout",
     "output_type": "stream",
     "text": [
      "  1           0 LOAD_CONST               0 (3)\n",
      "              2 STORE_NAME               0 (a)\n",
      "\n",
      "  2           4 LOAD_CONST               1 ('Hello ')\n",
      "              6 STORE_NAME               1 (b)\n",
      "\n",
      "  3           8 LOAD_NAME                2 (print)\n",
      "             10 LOAD_NAME                0 (a)\n",
      "             12 LOAD_NAME                1 (b)\n",
      "             14 BINARY_MULTIPLY\n",
      "             16 CALL_FUNCTION            1\n",
      "             18 POP_TOP\n",
      "\n",
      "  5          20 LOAD_CONST               6 ((1,))\n",
      "             22 LOAD_CONST               3 (<code object func at 0x7fc7bd137ed0, file \"/home/pviktori/dev/slides/2017-03-23-belgrade-bytecode/module.py\", line 5>)\n",
      "             24 LOAD_CONST               4 ('func')\n",
      "             26 MAKE_FUNCTION            1\n",
      "             28 STORE_NAME               3 (func)\n",
      "             30 LOAD_CONST               5 (None)\n",
      "             32 RETURN_VALUE\n"
     ]
    }
   ],
   "source": [
    "dis.dis(code)"
   ]
  },
  {
   "cell_type": "code",
   "execution_count": 24,
   "metadata": {
    "collapsed": false,
    "deletable": true,
    "editable": true
   },
   "outputs": [
    {
     "name": "stdout",
     "output_type": "stream",
     "text": [
      "  1           0 LOAD_CONST               0 (3)\r\n",
      "              2 STORE_NAME               0 (a)\r\n",
      "\r\n",
      "  2           4 LOAD_CONST               1 ('Hello ')\r\n",
      "              6 STORE_NAME               1 (b)\r\n",
      "\r\n",
      "  3           8 LOAD_NAME                2 (print)\r\n",
      "             10 LOAD_NAME                0 (a)\r\n",
      "             12 LOAD_NAME                1 (b)\r\n",
      "             14 BINARY_MULTIPLY\r\n",
      "             16 CALL_FUNCTION            1\r\n",
      "             18 POP_TOP\r\n",
      "\r\n",
      "  5          20 LOAD_CONST               6 ((1,))\r\n",
      "             22 LOAD_CONST               3 (<code object func at 0x7fe649304e40, file \"module.py\", line 5>)\r\n",
      "             24 LOAD_CONST               4 ('func')\r\n",
      "             26 MAKE_FUNCTION            1\r\n",
      "             28 STORE_NAME               3 (func)\r\n",
      "             30 LOAD_CONST               5 (None)\r\n",
      "             32 RETURN_VALUE\r\n"
     ]
    }
   ],
   "source": [
    "!python3 -m dis module.py"
   ]
  },
  {
   "cell_type": "code",
   "execution_count": 25,
   "metadata": {
    "collapsed": false,
    "deletable": true,
    "editable": true
   },
   "outputs": [
    {
     "name": "stdout",
     "output_type": "stream",
     "text": [
      "\n",
      " 0    100 LOAD_CONST              0 (3)\n",
      " 2     90 STORE_NAME              0 (a)\n",
      "\n",
      " 4    100 LOAD_CONST              1 ('Hello ')\n",
      " 6     90 STORE_NAME              1 (b)\n",
      "\n",
      " 8    101 LOAD_NAME               2 (print)\n",
      "10    101 LOAD_NAME               0 (a)\n",
      "12    101 LOAD_NAME               1 (b)\n",
      "14     20 BINARY_MULTIPLY         - ()\n",
      "16    131 CALL_FUNCTION           1 ()\n",
      "18      1 POP_TOP                 - ()\n",
      "\n",
      "20    100 LOAD_CONST              6 ((1,))\n",
      "22    100 LOAD_CONST              3 (<code object func at 0x7fc7bd137ed0, file \"/home/pviktori/dev/slides/2017-03-23-belgrade-bytecode/module.py\", line 5>)\n",
      "24    100 LOAD_CONST              4 ('func')\n",
      "26    132 MAKE_FUNCTION           1 ()\n",
      "28     90 STORE_NAME              3 (func)\n",
      "30    100 LOAD_CONST              5 (None)\n",
      "32     83 RETURN_VALUE            - ()\n"
     ]
    }
   ],
   "source": [
    "def print_dis(code):\n",
    "    line_starts = [a for a, b in dis.findlinestarts(code)]\n",
    "    for instr in dis.get_instructions(code):\n",
    "        if instr.offset in line_starts:\n",
    "            print()\n",
    "        print('{i.offset:2}    {i.opcode:3} {i.opname:20} {arg:>4} ({i.argrepr})'.format(\n",
    "                i=instr,\n",
    "                arg='-' if instr.arg is None else instr.arg))\n",
    "\n",
    "print_dis(code)"
   ]
  },
  {
   "cell_type": "code",
   "execution_count": 26,
   "metadata": {
    "collapsed": false,
    "deletable": true,
    "editable": true
   },
   "outputs": [
    {
     "name": "stdout",
     "output_type": "stream",
     "text": [
      "[100, 0, 90, 0, 100, 1, 90, 1, 101, 2, 101, 0, 101, 1, 20, 0, 131, 1, 1, 0, 100, 6, 100, 3, 100, 4, 132, 1, 90, 3, 100, 5, 83, 0]\n"
     ]
    }
   ],
   "source": [
    "print(list(b for b in code.co_code))"
   ]
  },
  {
   "cell_type": "code",
   "execution_count": 27,
   "metadata": {
    "collapsed": false,
    "deletable": true,
    "editable": true
   },
   "outputs": [
    {
     "name": "stdout",
     "output_type": "stream",
     "text": [
      "100\n",
      "LOAD_CONST\n"
     ]
    }
   ],
   "source": [
    "print(dis.opmap['LOAD_CONST'])\n",
    "print(dis.opname[100])"
   ]
  },
  {
   "cell_type": "code",
   "execution_count": 28,
   "metadata": {
    "collapsed": false,
    "deletable": true,
    "editable": true
   },
   "outputs": [
    {
     "data": {
      "text/plain": [
       "118"
      ]
     },
     "execution_count": 28,
     "metadata": {},
     "output_type": "execute_result"
    }
   ],
   "source": [
    "len(dis.opmap)"
   ]
  },
  {
   "cell_type": "markdown",
   "metadata": {
    "deletable": true,
    "editable": true
   },
   "source": [
    "### Summary\n",
    "The *bytecode* is a set of instructions for the Python interpreter – a stack-based virtual machine. This is the most important part of a code object – it tells Python what to do.\n",
    "\n",
    "Each instruction is represented either as a single byte (instructions with opcodes under a certain number), or as three bytes: a one-byte instruction and two-byte argument."
   ]
  },
  {
   "cell_type": "markdown",
   "metadata": {
    "deletable": true,
    "editable": true
   },
   "source": [
    "## Classes\n",
    "Now it starts getting interesting"
   ]
  },
  {
   "cell_type": "code",
   "execution_count": 30,
   "metadata": {
    "collapsed": false
   },
   "outputs": [
    {
     "name": "stdout",
     "output_type": "stream",
     "text": [
      "\n",
      " 0    116 LOAD_GLOBAL             0 (print)\n",
      " 2    100 LOAD_CONST              1 (1)\n",
      " 4    100 LOAD_CONST              2 (2)\n",
      " 6    100 LOAD_CONST              3 (', ')\n",
      " 8    100 LOAD_CONST              4 ('.\\n')\n",
      "10    100 LOAD_CONST              5 (('sep', 'end'))\n",
      "12    141 CALL_FUNCTION_KW        4 ()\n",
      "14      1 POP_TOP                 - ()\n",
      "\n",
      "16    100 LOAD_CONST              6 (<code object foo at 0x7fc7bd137d20, file \"<ipython-input-30-cfb485f9b4d8>\", line 4>)\n",
      "18    100 LOAD_CONST              7 ('silly_function.<locals>.foo')\n",
      "20    132 MAKE_FUNCTION           0 ()\n",
      "22    125 STORE_FAST              0 (foo)\n",
      "24    100 LOAD_CONST              0 (None)\n",
      "26     83 RETURN_VALUE            - ()\n"
     ]
    }
   ],
   "source": [
    "def silly_function():\n",
    "    print(1, 2, sep=', ', end='.\\n')\n",
    "\n",
    "    def foo():\n",
    "        print()\n",
    "\n",
    "#dump_code_attrs(silly_function.__code__)\n",
    "print_dis(silly_function.__code__)"
   ]
  },
  {
   "cell_type": "code",
   "execution_count": 31,
   "metadata": {
    "collapsed": false,
    "deletable": true,
    "editable": true
   },
   "outputs": [
    {
     "name": "stdout",
     "output_type": "stream",
     "text": [
      "\n",
      " 0     71 LOAD_BUILD_CLASS        - ()\n",
      " 2    100 LOAD_CONST              1 (<code object ClassExample at 0x7fc7bc9188a0, file \"<ipython-input-31-794a3072d5cc>\", line 2>)\n",
      " 4    100 LOAD_CONST              2 ('ClassExample')\n",
      " 6    132 MAKE_FUNCTION           0 ()\n",
      " 8    100 LOAD_CONST              2 ('ClassExample')\n",
      "10    131 CALL_FUNCTION           2 ()\n",
      "12    125 STORE_FAST              0 (ClassExample)\n",
      "\n",
      "14    124 LOAD_FAST               0 (ClassExample)\n",
      "16     83 RETURN_VALUE            - ()\n"
     ]
    }
   ],
   "source": [
    "def make_class():\n",
    "    class ClassExample:\n",
    "        \"a docstring\"\n",
    "        def __init__(self, name):\n",
    "            self.name = name\n",
    "    return ClassExample\n",
    "\n",
    "#dump_code_attrs(make_class.__code__)\n",
    "print_dis(make_class.__code__)"
   ]
  },
  {
   "cell_type": "code",
   "execution_count": 32,
   "metadata": {
    "collapsed": false,
    "deletable": true,
    "editable": true
   },
   "outputs": [
    {
     "name": "stdout",
     "output_type": "stream",
     "text": [
      "Help on built-in function __build_class__ in module builtins:\n",
      "\n",
      "__build_class__(...)\n",
      "    __build_class__(func, name, *bases, metaclass=None, **kwds) -> class\n",
      "    \n",
      "    Internal helper function used by the class statement.\n",
      "\n"
     ]
    }
   ],
   "source": [
    "help(__build_class__)"
   ]
  },
  {
   "cell_type": "code",
   "execution_count": 33,
   "metadata": {
    "collapsed": false,
    "deletable": true,
    "editable": true,
    "scrolled": false
   },
   "outputs": [
    {
     "name": "stdout",
     "output_type": "stream",
     "text": [
      "\n",
      " 0    101 LOAD_NAME               0 (__name__)\n",
      " 2     90 STORE_NAME              1 (__module__)\n",
      " 4    100 LOAD_CONST              0 ('make_class.<locals>.ClassExample')\n",
      " 6     90 STORE_NAME              2 (__qualname__)\n",
      "\n",
      " 8    100 LOAD_CONST              1 ('a docstring')\n",
      "10     90 STORE_NAME              3 (__doc__)\n",
      "\n",
      "12    100 LOAD_CONST              2 (<code object __init__ at 0x7fc7bd137f60, file \"<ipython-input-31-794a3072d5cc>\", line 4>)\n",
      "14    100 LOAD_CONST              3 ('make_class.<locals>.ClassExample.__init__')\n",
      "16    132 MAKE_FUNCTION           0 ()\n",
      "18     90 STORE_NAME              4 (__init__)\n",
      "20    100 LOAD_CONST              4 (None)\n",
      "22     83 RETURN_VALUE            - ()\n"
     ]
    }
   ],
   "source": [
    "class_code = make_class.__code__.co_consts[1]\n",
    "#dump_code_attrs(class_code)\n",
    "print_dis(class_code)"
   ]
  },
  {
   "cell_type": "code",
   "execution_count": 34,
   "metadata": {
    "collapsed": false
   },
   "outputs": [
    {
     "name": "stdout",
     "output_type": "stream",
     "text": [
      "<class '__main__.make_class.<locals>.ClassExample'>\n"
     ]
    }
   ],
   "source": [
    "print(make_class())"
   ]
  },
  {
   "cell_type": "code",
   "execution_count": 35,
   "metadata": {
    "collapsed": false
   },
   "outputs": [
    {
     "data": {
      "text/plain": [
       "'__main__'"
      ]
     },
     "execution_count": 35,
     "metadata": {},
     "output_type": "execute_result"
    }
   ],
   "source": [
    "make_class().__module__"
   ]
  },
  {
   "cell_type": "code",
   "execution_count": 36,
   "metadata": {
    "collapsed": false
   },
   "outputs": [
    {
     "data": {
      "text/plain": [
       "'make_class.<locals>.ClassExample'"
      ]
     },
     "execution_count": 36,
     "metadata": {},
     "output_type": "execute_result"
    }
   ],
   "source": [
    "make_class().__qualname__"
   ]
  },
  {
   "cell_type": "code",
   "execution_count": 37,
   "metadata": {
    "collapsed": false
   },
   "outputs": [
    {
     "data": {
      "text/plain": [
       "'a docstring'"
      ]
     },
     "execution_count": 37,
     "metadata": {},
     "output_type": "execute_result"
    }
   ],
   "source": [
    "make_class().__doc__"
   ]
  },
  {
   "cell_type": "code",
   "execution_count": 38,
   "metadata": {
    "collapsed": false
   },
   "outputs": [
    {
     "data": {
      "text/plain": [
       "<function __main__.make_class.<locals>.ClassExample.__init__>"
      ]
     },
     "execution_count": 38,
     "metadata": {},
     "output_type": "execute_result"
    }
   ],
   "source": [
    "make_class().__init__"
   ]
  },
  {
   "cell_type": "markdown",
   "metadata": {
    "deletable": true,
    "editable": true
   },
   "source": [
    "---\n",
    "# Serialization"
   ]
  },
  {
   "cell_type": "code",
   "execution_count": 39,
   "metadata": {
    "collapsed": false
   },
   "outputs": [
    {
     "name": "stdout",
     "output_type": "stream",
     "text": [
      "     1\ta = 3\r\n",
      "     2\tb = 'Hello '\r\n",
      "     3\tprint(a * b)\r\n",
      "     4\t\r\n",
      "     5\tdef func(a=1, *b, **c):\r\n",
      "     6\t    return 7 + 3\r\n"
     ]
    }
   ],
   "source": [
    "!cat -n module.py"
   ]
  },
  {
   "cell_type": "code",
   "execution_count": 40,
   "metadata": {
    "collapsed": false,
    "deletable": true,
    "editable": true
   },
   "outputs": [
    {
     "name": "stdout",
     "output_type": "stream",
     "text": [
      "[51, 13, 13, 10, 119, 11, 212, 88, 74, 0, 0, 0, 227, 0, 0, 0, 0, 0, 0, 0, 0, 0, 0, 0, 0, 3, 0, 0, 0, 64, 0, 0, 0, 115, 34, 0, 0, 0, 100, 0, 90, 0, 100, 1, 90, 1, 101, 2, 101, 0, 101, 1, 20, 0, 131, 1, 1, 0, 100, 6, 100, 3, 100, 4, 132, 1, 90, 3, 100, 5, 83, 0, 41, 7, 233, 3, 0, 0, 0, 122, 6, 72, 101, 108, 108, 111, 32, 233, 1, 0, 0, 0, 99, 1, 0, 0, 0, 0, 0, 0, 0, 3, 0, 0, 0, 2, 0, 0, 0, 79, 0, 0, 0, 115, 4, 0, 0, 0, 100, 3, 83, 0, 41, 4, 78, 233, 7, 0, 0, 0, 114, 1, 0, 0, 0, 233, 10, 0, 0, 0, 169, 0, 41, 3, 218, 1, 97, 218, 1, 98, 218, 1, 99, 114, 5, 0, 0, 0, 114, 5, 0, 0, 0, 250, 64, 47, 104, 111, 109, 101, 47, 112, 118, 105, 107, 116, 111, 114, 105, 47, 100, 101, 118, 47, 115, 108, 105, 100, 101, 115, 47, 50, 48, 49, 55, 45, 48, 51, 45, 50, 51, 45, 98, 101, 108, 103, 114, 97, 100, 101, 45, 98, 121, 116, 101, 99, 111, 100, 101, 47, 109, 111, 100, 117, 108, 101, 46, 112, 121, 218, 4, 102, 117, 110, 99, 5, 0, 0, 0, 115, 2, 0, 0, 0, 0, 1, 114, 10, 0, 0, 0, 78, 41, 1, 114, 2, 0, 0, 0, 41, 4, 114, 6, 0, 0, 0, 114, 7, 0, 0, 0, 218, 5, 112, 114, 105, 110, 116, 114, 10, 0, 0, 0, 114, 5, 0, 0, 0, 114, 5, 0, 0, 0, 114, 5, 0, 0, 0, 114, 9, 0, 0, 0, 218, 8, 60, 109, 111, 100, 117, 108, 101, 62, 1, 0, 0, 0, 115, 6, 0, 0, 0, 4, 1, 4, 1, 12, 2]\n"
     ]
    }
   ],
   "source": [
    "with open('__pycache__/module.cpython-36.pyc', 'rb') as f:\n",
    "    module_bytes = f.read()\n",
    "\n",
    "print(list(module_bytes))"
   ]
  },
  {
   "cell_type": "code",
   "execution_count": 41,
   "metadata": {
    "collapsed": false,
    "deletable": true,
    "editable": true
   },
   "outputs": [
    {
     "name": "stdout",
     "output_type": "stream",
     "text": [
      "<code object <module> at 0x7fc7bc918660, file \"/home/pviktori/dev/slides/2017-03-23-belgrade-bytecode/module.py\", line 1>\n"
     ]
    }
   ],
   "source": [
    "import marshal\n",
    "\n",
    "marshalled = marshal.dumps(code)\n",
    "print(marshal.loads(marshalled))\n"
   ]
  },
  {
   "cell_type": "code",
   "execution_count": 42,
   "metadata": {
    "collapsed": false,
    "deletable": true,
    "editable": true
   },
   "outputs": [
    {
     "name": "stdout",
     "output_type": "stream",
     "text": [
      "[227, 0, 0, 0, 0, 0, 0, 0, 0, 0, 0, 0, 0, 3, 0, 0, 0, 64, 0, 0, 0, 243, 34, 0, 0, 0, 100, 0, 90, 0, 100, 1, 90, 1, 101, 2, 101, 0, 101, 1, 20, 0, 131, 1, 1, 0, 100, 6, 100, 3, 100, 4, 132, 1, 90, 3, 100, 5, 83, 0, 41, 7, 233, 3, 0, 0, 0, 250, 6, 72, 101, 108, 108, 111, 32, 233, 1, 0, 0, 0, 227, 1, 0, 0, 0, 0, 0, 0, 0, 3, 0, 0, 0, 2, 0, 0, 0, 79, 0, 0, 0, 115, 4, 0, 0, 0, 100, 3, 83, 0, 41, 4, 78, 233, 7, 0, 0, 0, 114, 2, 0, 0, 0, 233, 10, 0, 0, 0, 169, 0, 41, 3, 218, 1, 97, 218, 1, 98, 218, 1, 99, 114, 8, 0, 0, 0, 114, 8, 0, 0, 0, 250, 64, 47, 104, 111, 109, 101, 47, 112, 118, 105, 107, 116, 111, 114, 105, 47, 100, 101, 118, 47, 115, 108, 105, 100, 101, 115, 47, 50, 48, 49, 55, 45, 48, 51, 45, 50, 51, 45, 98, 101, 108, 103, 114, 97, 100, 101, 45, 98, 121, 116, 101, 99, 111, 100, 101, 47, 109, 111, 100, 117, 108, 101, 46, 112, 121, 218, 4, 102, 117, 110, 99, 5, 0, 0, 0, 115, 2, 0, 0, 0, 0, 1, 114, 13, 0, 0, 0, 78, 169, 1, 114, 4, 0, 0, 0, 41, 4, 114, 9, 0, 0, 0, 114, 10, 0, 0, 0, 218, 5, 112, 114, 105, 110, 116, 114, 13, 0, 0, 0, 114, 8, 0, 0, 0, 114, 8, 0, 0, 0, 114, 8, 0, 0, 0, 114, 12, 0, 0, 0, 218, 8, 60, 109, 111, 100, 117, 108, 101, 62, 1, 0, 0, 0, 115, 6, 0, 0, 0, 4, 1, 4, 1, 12, 2]\n"
     ]
    }
   ],
   "source": [
    "print(list(marshalled))\n"
   ]
  },
  {
   "cell_type": "code",
   "execution_count": 43,
   "metadata": {
    "collapsed": false,
    "deletable": true,
    "editable": true
   },
   "outputs": [
    {
     "name": "stdout",
     "output_type": "stream",
     "text": [
      "[51, 13, 13, 10, 119, 11, 212, 88, 74, 0, 0, 0, 227, 0, 0, 0, 0, 0, 0, 0, 0, 0, 0, 0, 0, 3, 0, 0, 0, 64, 0, 0, 0, 115, 34, 0, 0, 0, 100, 0, 90, 0, 100, 1, 90, 1, 101, 2, 101, 0, 101, 1, 20, 0, 131, 1, 1, 0, 100, 6, 100, 3, 100, 4, 132, 1, 90, 3, 100, 5, 83, 0, 41, 7, 233, 3, 0, 0, 0, 122, 6, 72, 101, 108, 108, 111, 32, 233, 1, 0, 0, 0, 99, 1, 0, 0, 0, 0, 0, 0, 0, 3, 0, 0, 0, 2, 0, 0, 0, 79, 0, 0, 0, 115, 4, 0, 0, 0, 100, 3, 83, 0, 41, 4, 78, 233, 7, 0, 0, 0, 114, 1, 0, 0, 0, 233, 10, 0, 0, 0, 169, 0, 41, 3, 218, 1, 97, 218, 1, 98, 218, 1, 99, 114, 5, 0, 0, 0, 114, 5, 0, 0, 0, 250, 64, 47, 104, 111, 109, 101, 47, 112, 118, 105, 107, 116, 111, 114, 105, 47, 100, 101, 118, 47, 115, 108, 105, 100, 101, 115, 47, 50, 48, 49, 55, 45, 48, 51, 45, 50, 51, 45, 98, 101, 108, 103, 114, 97, 100, 101, 45, 98, 121, 116, 101, 99, 111, 100, 101, 47, 109, 111, 100, 117, 108, 101, 46, 112, 121, 218, 4, 102, 117, 110, 99, 5, 0, 0, 0, 115, 2, 0, 0, 0, 0, 1, 114, 10, 0, 0, 0, 78, 41, 1, 114, 2, 0, 0, 0, 41, 4, 114, 6, 0, 0, 0, 114, 7, 0, 0, 0, 218, 5, 112, 114, 105, 110, 116, 114, 10, 0, 0, 0, 114, 5, 0, 0, 0, 114, 5, 0, 0, 0, 114, 5, 0, 0, 0, 114, 9, 0, 0, 0, 218, 8, 60, 109, 111, 100, 117, 108, 101, 62, 1, 0, 0, 0, 115, 6, 0, 0, 0, 4, 1, 4, 1, 12, 2]\n"
     ]
    }
   ],
   "source": [
    "print(list(module_bytes))"
   ]
  },
  {
   "cell_type": "code",
   "execution_count": 44,
   "metadata": {
    "collapsed": false,
    "deletable": true,
    "editable": true
   },
   "outputs": [
    {
     "data": {
      "text/plain": [
       "True"
      ]
     },
     "execution_count": 44,
     "metadata": {},
     "output_type": "execute_result"
    }
   ],
   "source": [
    "marshal.loads(module_bytes[12:]) == code"
   ]
  },
  {
   "cell_type": "markdown",
   "metadata": {
    "deletable": true,
    "editable": true
   },
   "source": [
    "---"
   ]
  },
  {
   "cell_type": "code",
   "execution_count": 45,
   "metadata": {
    "collapsed": false,
    "deletable": true,
    "editable": true
   },
   "outputs": [
    {
     "name": "stdout",
     "output_type": "stream",
     "text": [
      "b'3\\r\\r\\n'\n"
     ]
    },
    {
     "data": {
      "text/plain": [
       "[51, 13, 13, 10]"
      ]
     },
     "execution_count": 45,
     "metadata": {},
     "output_type": "execute_result"
    }
   ],
   "source": [
    "print(module_bytes[0:4])\n",
    "list(module_bytes[0:4])"
   ]
  },
  {
   "cell_type": "code",
   "execution_count": 46,
   "metadata": {
    "collapsed": false,
    "deletable": true,
    "editable": true
   },
   "outputs": [
    {
     "name": "stdout",
     "output_type": "stream",
     "text": [
      "b'3\\r\\r\\n'\n"
     ]
    },
    {
     "data": {
      "text/plain": [
       "[51, 13, 13, 10]"
      ]
     },
     "execution_count": 46,
     "metadata": {},
     "output_type": "execute_result"
    }
   ],
   "source": [
    "import importlib.util\n",
    "print(importlib.util.MAGIC_NUMBER)\n",
    "list(importlib.util.MAGIC_NUMBER)"
   ]
  },
  {
   "cell_type": "markdown",
   "metadata": {
    "deletable": true,
    "editable": true
   },
   "source": [
    "---"
   ]
  },
  {
   "cell_type": "code",
   "execution_count": 47,
   "metadata": {
    "collapsed": false,
    "deletable": true,
    "editable": true
   },
   "outputs": [
    {
     "name": "stdout",
     "output_type": "stream",
     "text": [
      "b'w\\x0b\\xd4X'\n"
     ]
    },
    {
     "data": {
      "text/plain": [
       "[119, 11, 212, 88]"
      ]
     },
     "execution_count": 47,
     "metadata": {},
     "output_type": "execute_result"
    }
   ],
   "source": [
    "print(module_bytes[4:8])\n",
    "list(module_bytes[4:8])"
   ]
  },
  {
   "cell_type": "code",
   "execution_count": 48,
   "metadata": {
    "collapsed": false,
    "deletable": true,
    "editable": true
   },
   "outputs": [
    {
     "data": {
      "text/plain": [
       "1490291575"
      ]
     },
     "execution_count": 48,
     "metadata": {},
     "output_type": "execute_result"
    }
   ],
   "source": [
    "stamp_value = int.from_bytes(module_bytes[4:8], 'little')\n",
    "stamp_value"
   ]
  },
  {
   "cell_type": "code",
   "execution_count": 49,
   "metadata": {
    "collapsed": false,
    "deletable": true,
    "editable": true
   },
   "outputs": [
    {
     "data": {
      "text/plain": [
       "'2017-03-23 18:52:55'"
      ]
     },
     "execution_count": 49,
     "metadata": {},
     "output_type": "execute_result"
    }
   ],
   "source": [
    "datetime.datetime.fromtimestamp(stamp_value).isoformat(' ')"
   ]
  },
  {
   "cell_type": "markdown",
   "metadata": {
    "deletable": true,
    "editable": true
   },
   "source": [
    "---"
   ]
  },
  {
   "cell_type": "code",
   "execution_count": 50,
   "metadata": {
    "collapsed": false,
    "deletable": true,
    "editable": true
   },
   "outputs": [
    {
     "name": "stdout",
     "output_type": "stream",
     "text": [
      "b'J\\x00\\x00\\x00'\n"
     ]
    },
    {
     "data": {
      "text/plain": [
       "[74, 0, 0, 0]"
      ]
     },
     "execution_count": 50,
     "metadata": {},
     "output_type": "execute_result"
    }
   ],
   "source": [
    "print(module_bytes[8:12])\n",
    "list(module_bytes[8:12])"
   ]
  },
  {
   "cell_type": "code",
   "execution_count": 51,
   "metadata": {
    "collapsed": false,
    "deletable": true,
    "editable": true
   },
   "outputs": [
    {
     "data": {
      "text/plain": [
       "74"
      ]
     },
     "execution_count": 51,
     "metadata": {},
     "output_type": "execute_result"
    }
   ],
   "source": [
    "int.from_bytes(module_bytes[8:12], 'little')"
   ]
  },
  {
   "cell_type": "code",
   "execution_count": 52,
   "metadata": {
    "collapsed": false,
    "deletable": true,
    "editable": true
   },
   "outputs": [
    {
     "name": "stdout",
     "output_type": "stream",
     "text": [
      "74\n"
     ]
    }
   ],
   "source": [
    "with open('module.py', 'rb') as f:\n",
    "    print(len(f.read()))"
   ]
  },
  {
   "cell_type": "code",
   "execution_count": 54,
   "metadata": {
    "collapsed": false,
    "deletable": true,
    "editable": true
   },
   "outputs": [
    {
     "data": {
      "text/plain": [
       "os.stat_result(st_mode=33204, st_ino=2529913, st_dev=64768, st_nlink=1, st_uid=1000, st_gid=1000, st_size=74, st_atime=1490379765, st_mtime=1490291575, st_ctime=1490291575)"
      ]
     },
     "execution_count": 54,
     "metadata": {},
     "output_type": "execute_result"
    }
   ],
   "source": [
    "os.stat('module.py')"
   ]
  },
  {
   "cell_type": "markdown",
   "metadata": {
    "deletable": true,
    "editable": true
   },
   "source": [
    "\n",
    "### Summary\n",
    "The `.pyc` file stores the result of the compiler's hard work, so it doesn't have to compile again if the source file is not changed. It is generated (and read) as part of Python's import machinery – i.e. from \"import\" statements, not when running a module directly using `python module.py` or `python -m module`.\n",
    "\n",
    "The “meat” of a `.pyc` file is a code object serialized using the `marshal` module – an efficient format that only supports values that can appear as constants in Python files.\n",
    "The `.pyc` file adds a header to that, leading to this overall structure:\n",
    "\n",
    "* Bytes 0-3: Magic number (identifies a bytecode version)\n",
    "* Bytes 4-7: Modification time of source file\n",
    "* Bytes 8-11: Length of source file (in bytes)\n",
    "* Bytes 12 and on: `marshal`-ed code object"
   ]
  },
  {
   "cell_type": "markdown",
   "metadata": {
    "deletable": true,
    "editable": true
   },
   "source": [
    "---\n",
    "# Functions, Code Objects and Signatures"
   ]
  },
  {
   "cell_type": "code",
   "execution_count": 55,
   "metadata": {
    "collapsed": false,
    "deletable": true,
    "editable": true
   },
   "outputs": [
    {
     "name": "stdout",
     "output_type": "stream",
     "text": [
      "debug: 3\n",
      "3\n",
      "debug: 4\n",
      "4\n"
     ]
    }
   ],
   "source": [
    "def make_adder(a):\n",
    "    def adder(b:int=2, *args, c: \"(unused)\"=3, **kwargs) -> int:\n",
    "        \"A silly function\"\n",
    "        result = a + b\n",
    "        print('debug:', result)\n",
    "        return result\n",
    "    return adder\n",
    "\n",
    "adder = make_adder(1)\n",
    "\n",
    "print(adder(2))\n",
    "print(adder(3))"
   ]
  },
  {
   "cell_type": "code",
   "execution_count": 56,
   "metadata": {
    "collapsed": false,
    "deletable": true,
    "editable": true
   },
   "outputs": [
    {
     "name": "stdout",
     "output_type": "stream",
     "text": [
      "__code__:  <code object adder at 0x7fc7bc918540, file \"<ipython-input-55-8ecfda3da029>\", line 2>\n",
      "__defaults__:  (2,)\n",
      "__kwdefaults__:  {'c': 3}\n",
      "__qualname__:  make_adder.<locals>.adder\n",
      "__doc__:  A silly function\n",
      "__annotations__:  {'b': <class 'int'>, 'c': '(unused)', 'return': <class 'int'>}\n",
      "__globals__: a dict\n",
      "__closure__:  (<cell at 0x7fc7c01c6378: int object at 0x7fc7d1d54640>,)\n"
     ]
    }
   ],
   "source": [
    "print('__code__: ', adder.__code__)\n",
    "print('__defaults__: ', adder.__defaults__)\n",
    "print('__kwdefaults__: ', adder.__kwdefaults__)\n",
    "print('__qualname__: ', adder.__qualname__)\n",
    "print('__doc__: ', adder.__doc__)\n",
    "print('__annotations__: ', adder.__annotations__)\n",
    "print('__globals__: a', type(adder.__globals__).__name__)\n",
    "print('__closure__: ', adder.__closure__)"
   ]
  },
  {
   "cell_type": "code",
   "execution_count": null,
   "metadata": {
    "collapsed": false,
    "deletable": true,
    "editable": true
   },
   "outputs": [],
   "source": [
    "dump_code_attrs(adder.__code__)\n",
    "dis.show_code(adder)"
   ]
  },
  {
   "cell_type": "code",
   "execution_count": 57,
   "metadata": {
    "collapsed": false,
    "deletable": true,
    "editable": true
   },
   "outputs": [
    {
     "name": "stdout",
     "output_type": "stream",
     "text": [
      "(b:int=2, *args, c:'(unused)'=3, **kwargs) -> int\n"
     ]
    }
   ],
   "source": [
    "sig = inspect.signature(adder)\n",
    "print(sig)"
   ]
  },
  {
   "cell_type": "code",
   "execution_count": 58,
   "metadata": {
    "collapsed": false,
    "deletable": true,
    "editable": true
   },
   "outputs": [
    {
     "data": {
      "text/plain": [
       "mappingproxy({'args': <Parameter \"*args\">,\n",
       "              'b': <Parameter \"b:int=2\">,\n",
       "              'c': <Parameter \"c:'(unused)'=3\">,\n",
       "              'kwargs': <Parameter \"**kwargs\">})"
      ]
     },
     "execution_count": 58,
     "metadata": {},
     "output_type": "execute_result"
    }
   ],
   "source": [
    "sig.parameters"
   ]
  },
  {
   "cell_type": "code",
   "execution_count": 59,
   "metadata": {
    "collapsed": false,
    "deletable": true,
    "editable": true
   },
   "outputs": [
    {
     "name": "stdout",
     "output_type": "stream",
     "text": [
      "b: kind=1, default=2, annotation=<class 'int'>\n",
      "args: kind=2, default=<class 'inspect._empty'>, annotation=<class 'inspect._empty'>\n",
      "c: kind=3, default=3, annotation='(unused)'\n",
      "kwargs: kind=4, default=<class 'inspect._empty'>, annotation=<class 'inspect._empty'>\n"
     ]
    }
   ],
   "source": [
    "for name, arg in sig.parameters.items():\n",
    "    print('{a.name}: kind={a.kind}, default={a.default!r}, annotation={a.annotation!r}'.format(a=arg))"
   ]
  },
  {
   "cell_type": "code",
   "execution_count": 60,
   "metadata": {
    "collapsed": false,
    "deletable": true,
    "editable": true
   },
   "outputs": [
    {
     "data": {
      "text/plain": [
       "int"
      ]
     },
     "execution_count": 60,
     "metadata": {},
     "output_type": "execute_result"
    }
   ],
   "source": [
    "sig.return_annotation"
   ]
  },
  {
   "cell_type": "code",
   "execution_count": 61,
   "metadata": {
    "collapsed": false,
    "deletable": true,
    "editable": true
   },
   "outputs": [
    {
     "data": {
      "text/plain": [
       "<BoundArguments (b=1, c=2, kwargs={'d': 3})>"
      ]
     },
     "execution_count": 61,
     "metadata": {},
     "output_type": "execute_result"
    }
   ],
   "source": [
    "bound_args = sig.bind(1, c=2, d=3)\n",
    "bound_args"
   ]
  },
  {
   "cell_type": "code",
   "execution_count": 62,
   "metadata": {
    "collapsed": false,
    "deletable": true,
    "editable": true
   },
   "outputs": [
    {
     "name": "stdout",
     "output_type": "stream",
     "text": [
      "debug: 2\n"
     ]
    },
    {
     "data": {
      "text/plain": [
       "2"
      ]
     },
     "execution_count": 62,
     "metadata": {},
     "output_type": "execute_result"
    }
   ],
   "source": [
    "adder(*bound_args.args, **bound_args.kwargs)"
   ]
  },
  {
   "cell_type": "code",
   "execution_count": null,
   "metadata": {
    "collapsed": true,
    "deletable": true,
    "editable": true
   },
   "outputs": [],
   "source": []
  },
  {
   "cell_type": "markdown",
   "metadata": {
    "deletable": true,
    "editable": true
   },
   "source": [
    "### Summary\n",
    "Python's *functions* are mutable objects, each of which holds an immutable code object. Data related to code execution, like variable names and constant values, are stored in the code object. Extra data that's only needed when calling the function, such as default argument values, is stored on the function.\n",
    "\n",
    "Data related to arguments – their names, values, and annotations – are stored in a format that's convenient for calling and running the function. When you need to inspect them, you can use a helper called `inspect.signature`, which exposes them in a more usable way."
   ]
  },
  {
   "cell_type": "markdown",
   "metadata": {
    "deletable": true,
    "editable": true
   },
   "source": [
    "---\n",
    "# Line Numbers"
   ]
  },
  {
   "cell_type": "code",
   "execution_count": 63,
   "metadata": {
    "collapsed": false,
    "deletable": true,
    "editable": true
   },
   "outputs": [
    {
     "name": "stdout",
     "output_type": "stream",
     "text": [
      "\n",
      " 0    116 LOAD_GLOBAL             0 (print)\n",
      " 2    100 LOAD_CONST              1 (1)\n",
      " 4    100 LOAD_CONST              2 (0)\n",
      " 6     27 BINARY_TRUE_DIVIDE      - ()\n",
      " 8    131 CALL_FUNCTION           1 ()\n",
      "10      1 POP_TOP                 - ()\n",
      "12    100 LOAD_CONST              0 (None)\n",
      "14     83 RETURN_VALUE            - ()\n"
     ]
    }
   ],
   "source": [
    "def oops():\n",
    "    print(1/0)\n",
    "\n",
    "print_dis(oops.__code__)"
   ]
  },
  {
   "cell_type": "code",
   "execution_count": 64,
   "metadata": {
    "collapsed": false,
    "deletable": true,
    "editable": true
   },
   "outputs": [
    {
     "ename": "ZeroDivisionError",
     "evalue": "division by zero",
     "output_type": "error",
     "traceback": [
      "\u001b[0;31m---------------------------------------------------------------------------\u001b[0m",
      "\u001b[0;31mZeroDivisionError\u001b[0m                         Traceback (most recent call last)",
      "\u001b[0;32m<ipython-input-64-dffa40f44842>\u001b[0m in \u001b[0;36m<module>\u001b[0;34m()\u001b[0m\n\u001b[0;32m----> 1\u001b[0;31m \u001b[0moops\u001b[0m\u001b[0;34m(\u001b[0m\u001b[0;34m)\u001b[0m\u001b[0;34m\u001b[0m\u001b[0m\n\u001b[0m",
      "\u001b[0;32m<ipython-input-63-25a8fbcc65a6>\u001b[0m in \u001b[0;36moops\u001b[0;34m()\u001b[0m\n\u001b[1;32m      1\u001b[0m \u001b[0;32mdef\u001b[0m \u001b[0moops\u001b[0m\u001b[0;34m(\u001b[0m\u001b[0;34m)\u001b[0m\u001b[0;34m:\u001b[0m\u001b[0;34m\u001b[0m\u001b[0m\n\u001b[0;32m----> 2\u001b[0;31m     \u001b[0mprint\u001b[0m\u001b[0;34m(\u001b[0m\u001b[0;36m1\u001b[0m\u001b[0;34m/\u001b[0m\u001b[0;36m0\u001b[0m\u001b[0;34m)\u001b[0m\u001b[0;34m\u001b[0m\u001b[0m\n\u001b[0m\u001b[1;32m      3\u001b[0m \u001b[0;34m\u001b[0m\u001b[0m\n\u001b[1;32m      4\u001b[0m \u001b[0mprint_dis\u001b[0m\u001b[0;34m(\u001b[0m\u001b[0moops\u001b[0m\u001b[0;34m.\u001b[0m\u001b[0m__code__\u001b[0m\u001b[0;34m)\u001b[0m\u001b[0;34m\u001b[0m\u001b[0m\n",
      "\u001b[0;31mZeroDivisionError\u001b[0m: division by zero"
     ]
    }
   ],
   "source": [
    "oops()"
   ]
  },
  {
   "cell_type": "code",
   "execution_count": null,
   "metadata": {
    "collapsed": false,
    "deletable": true,
    "editable": true
   },
   "outputs": [],
   "source": [
    "!cat module.py"
   ]
  },
  {
   "cell_type": "code",
   "execution_count": 65,
   "metadata": {
    "collapsed": false,
    "deletable": true,
    "editable": true
   },
   "outputs": [
    {
     "name": "stdout",
     "output_type": "stream",
     "text": [
      "<code object <module> at 0x7fc7bd137e40, file \"/home/pviktori/dev/slides/2017-03-23-belgrade-bytecode/module.py\", line 1>\n",
      "  co_argcount: 0\n",
      "  co_cellvars: ()\n",
      "  co_code: b'd\\x00Z\\x00d\\x01Z\\x01e\\x02e\\x00e\\x01\\x14\\x00\\x83\\x01\\x01\\x00d\\x06d\\x03d\\x04\\x84\\x01Z\\x03d\\x05S\\x00'\n",
      "  co_consts: (3, 'Hello ', 1, <code object func at 0x7fc7bd137ed0, file \"/home/pviktori/dev/slides/2017-03-23-belgrade-bytecode/module.py\", line 5>, 'func', None, (1,))\n",
      "  co_filename: /home/pviktori/dev/slides/2017-03-23-belgrade-bytecode/module.py\n",
      "  co_firstlineno: 1\n",
      "  co_flags: 64\n",
      "  co_freevars: ()\n",
      "  co_kwonlyargcount: 0\n",
      "  co_lnotab: b'\\x04\\x01\\x04\\x01\\x0c\\x02'\n",
      "  co_name: <module>\n",
      "  co_names: ('a', 'b', 'print', 'func')\n",
      "  co_nlocals: 0\n",
      "  co_stacksize: 3\n",
      "  co_varnames: ()\n"
     ]
    }
   ],
   "source": [
    "dump_code_attrs(code)"
   ]
  },
  {
   "cell_type": "code",
   "execution_count": 66,
   "metadata": {
    "collapsed": false,
    "deletable": true,
    "editable": true
   },
   "outputs": [
    {
     "name": "stdout",
     "output_type": "stream",
     "text": [
      "  1           0 LOAD_CONST               0 (3)\r\n",
      "              2 STORE_NAME               0 (a)\r\n",
      "\r\n",
      "  2           4 LOAD_CONST               1 ('Hello ')\r\n",
      "              6 STORE_NAME               1 (b)\r\n",
      "\r\n",
      "  3           8 LOAD_NAME                2 (print)\r\n",
      "             10 LOAD_NAME                0 (a)\r\n",
      "             12 LOAD_NAME                1 (b)\r\n",
      "             14 BINARY_MULTIPLY\r\n",
      "             16 CALL_FUNCTION            1\r\n",
      "             18 POP_TOP\r\n",
      "\r\n",
      "  5          20 LOAD_CONST               6 ((1,))\r\n",
      "             22 LOAD_CONST               3 (<code object func at 0x7fa54fd8ae40, file \"module.py\", line 5>)\r\n",
      "             24 LOAD_CONST               4 ('func')\r\n",
      "             26 MAKE_FUNCTION            1\r\n",
      "             28 STORE_NAME               3 (func)\r\n",
      "             30 LOAD_CONST               5 (None)\r\n",
      "             32 RETURN_VALUE\r\n"
     ]
    }
   ],
   "source": [
    "!python -m dis module.py"
   ]
  },
  {
   "cell_type": "code",
   "execution_count": null,
   "metadata": {
    "collapsed": true,
    "deletable": true,
    "editable": true
   },
   "outputs": [],
   "source": [
    "\n",
    "\n"
   ]
  },
  {
   "cell_type": "code",
   "execution_count": 67,
   "metadata": {
    "collapsed": false,
    "deletable": true,
    "editable": true,
    "scrolled": false
   },
   "outputs": [
    {
     "data": {
      "text/plain": [
       "[4, 1, 4, 1, 12, 2]"
      ]
     },
     "execution_count": 67,
     "metadata": {},
     "output_type": "execute_result"
    }
   ],
   "source": [
    "list(code.co_lnotab)"
   ]
  },
  {
   "cell_type": "code",
   "execution_count": 68,
   "metadata": {
    "collapsed": false,
    "deletable": true,
    "editable": true
   },
   "outputs": [
    {
     "data": {
      "text/plain": [
       "[(4, 1), (4, 1), (12, 2)]"
      ]
     },
     "execution_count": 68,
     "metadata": {},
     "output_type": "execute_result"
    }
   ],
   "source": [
    "list(zip(code.co_lnotab[::2], code.co_lnotab[1::2]))"
   ]
  },
  {
   "cell_type": "markdown",
   "metadata": {
    "deletable": true,
    "editable": true
   },
   "source": [
    "### Summary\n",
    "When Python needs to determine which line number a particular bytecode offset belongs to, it can use the line number table, or `lnotab`. The lnotab holds pairs of bytes saying, effectively, how many bytes correspond to how many lines.\n",
    "\n",
    "A full explanation is in the file `Objects/lnotab_notes.txt` in Python sources."
   ]
  },
  {
   "cell_type": "markdown",
   "metadata": {
    "deletable": true,
    "editable": true
   },
   "source": [
    "---\n",
    "# Frames\n",
    "Code objects, functions, and frames"
   ]
  },
  {
   "cell_type": "code",
   "execution_count": 69,
   "metadata": {
    "collapsed": false,
    "deletable": true,
    "editable": true
   },
   "outputs": [
    {
     "name": "stdout",
     "output_type": "stream",
     "text": [
      "4\n"
     ]
    },
    {
     "data": {
      "text/plain": [
       "<frame at 0x7fc7bc913048>"
      ]
     },
     "execution_count": 69,
     "metadata": {},
     "output_type": "execute_result"
    }
   ],
   "source": [
    "def inner():\n",
    "    a = 1\n",
    "    frame = inspect.currentframe()\n",
    "    print(frame.f_lineno)\n",
    "    return frame\n",
    "def outer():\n",
    "    return inner()\n",
    "\n",
    "frame = outer()\n",
    "frame"
   ]
  },
  {
   "cell_type": "code",
   "execution_count": 70,
   "metadata": {
    "collapsed": false,
    "deletable": true,
    "editable": true
   },
   "outputs": [
    {
     "name": "stdout",
     "output_type": "stream",
     "text": [
      "f_code: <code object inner at 0x7fc7bc05e6f0, file \"<ipython-input-69-898de4c7057a>\", line 1>\n",
      "f_lasti: 24\n",
      "f_lineno: 5\n",
      "f_locals: {'frame': <frame object at 0x7fc7bc913048>, 'a': 1}\n",
      "f_back: <frame object at 0x7fc7bc913408>\n"
     ]
    }
   ],
   "source": [
    "print('f_code:', frame.f_code)\n",
    "print('f_lasti:', frame.f_lasti)\n",
    "print('f_lineno:', frame.f_lineno)\n",
    "print('f_locals:', frame.f_locals)\n",
    "print('f_back:', frame.f_back)"
   ]
  },
  {
   "cell_type": "code",
   "execution_count": 71,
   "metadata": {
    "collapsed": false,
    "deletable": true,
    "editable": true
   },
   "outputs": [
    {
     "name": "stdout",
     "output_type": "stream",
     "text": [
      "f_code: <code object outer at 0x7fc7bc05e810, file \"<ipython-input-69-898de4c7057a>\", line 6>\n",
      "f_lasti: 4\n",
      "f_lineno: 7\n",
      "f_locals: {}\n",
      "f_back: <frame object at 0x7fc7bc9139a8>\n"
     ]
    }
   ],
   "source": [
    "print('f_code:', frame.f_back.f_code)\n",
    "print('f_lasti:', frame.f_back.f_lasti)\n",
    "print('f_lineno:', frame.f_back.f_lineno)\n",
    "print('f_locals:', frame.f_back.f_locals)\n",
    "print('f_back:', frame.f_back.f_back)"
   ]
  },
  {
   "cell_type": "code",
   "execution_count": 72,
   "metadata": {
    "collapsed": false,
    "deletable": true,
    "editable": true
   },
   "outputs": [
    {
     "name": "stdout",
     "output_type": "stream",
     "text": [
      "inner:     return frame\n",
      "\n",
      "outer:     return inner()\n",
      "\n"
     ]
    }
   ],
   "source": [
    "def get_current_line(frame):\n",
    "    lines = inspect.getsourcelines(frame.f_code)[0]\n",
    "    index = frame.f_lineno - frame.f_code.co_firstlineno\n",
    "    return '{}: {}'.format(frame.f_code.co_name, lines[index])\n",
    "\n",
    "print(get_current_line(frame))\n",
    "print(get_current_line(frame.f_back))\n"
   ]
  },
  {
   "cell_type": "code",
   "execution_count": 73,
   "metadata": {
    "collapsed": false,
    "deletable": true,
    "editable": true
   },
   "outputs": [
    {
     "name": "stdout",
     "output_type": "stream",
     "text": [
      "  File \"/usr/lib64/python3.6/runpy.py\", line 193, in _run_module_as_main\n",
      "    \"__main__\", mod_spec)\n",
      "  File \"/usr/lib64/python3.6/runpy.py\", line 85, in _run_code\n",
      "    exec(code, run_globals)\n",
      "  File \"/home/pviktori/dev/slides/2017-03-23-belgrade-bytecode/__venv__/lib64/python3.6/site-packages/ipykernel/__main__.py\", line 3, in <module>\n",
      "    app.launch_new_instance()\n",
      "  File \"/home/pviktori/dev/slides/2017-03-23-belgrade-bytecode/__venv__/lib64/python3.6/site-packages/traitlets/config/application.py\", line 658, in launch_instance\n",
      "    app.start()\n",
      "  File \"/home/pviktori/dev/slides/2017-03-23-belgrade-bytecode/__venv__/lib64/python3.6/site-packages/ipykernel/kernelapp.py\", line 474, in start\n",
      "    ioloop.IOLoop.instance().start()\n",
      "  File \"/home/pviktori/dev/slides/2017-03-23-belgrade-bytecode/__venv__/lib64/python3.6/site-packages/zmq/eventloop/ioloop.py\", line 177, in start\n",
      "    super(ZMQIOLoop, self).start()\n",
      "  File \"/home/pviktori/dev/slides/2017-03-23-belgrade-bytecode/__venv__/lib64/python3.6/site-packages/tornado/ioloop.py\", line 887, in start\n",
      "    handler_func(fd_obj, events)\n",
      "  File \"/home/pviktori/dev/slides/2017-03-23-belgrade-bytecode/__venv__/lib64/python3.6/site-packages/tornado/stack_context.py\", line 275, in null_wrapper\n",
      "    return fn(*args, **kwargs)\n",
      "  File \"/home/pviktori/dev/slides/2017-03-23-belgrade-bytecode/__venv__/lib64/python3.6/site-packages/zmq/eventloop/zmqstream.py\", line 440, in _handle_events\n",
      "    self._handle_recv()\n",
      "  File \"/home/pviktori/dev/slides/2017-03-23-belgrade-bytecode/__venv__/lib64/python3.6/site-packages/zmq/eventloop/zmqstream.py\", line 472, in _handle_recv\n",
      "    self._run_callback(callback, msg)\n",
      "  File \"/home/pviktori/dev/slides/2017-03-23-belgrade-bytecode/__venv__/lib64/python3.6/site-packages/zmq/eventloop/zmqstream.py\", line 414, in _run_callback\n",
      "    callback(*args, **kwargs)\n",
      "  File \"/home/pviktori/dev/slides/2017-03-23-belgrade-bytecode/__venv__/lib64/python3.6/site-packages/tornado/stack_context.py\", line 275, in null_wrapper\n",
      "    return fn(*args, **kwargs)\n",
      "  File \"/home/pviktori/dev/slides/2017-03-23-belgrade-bytecode/__venv__/lib64/python3.6/site-packages/ipykernel/kernelbase.py\", line 276, in dispatcher\n",
      "    return self.dispatch_shell(stream, msg)\n",
      "  File \"/home/pviktori/dev/slides/2017-03-23-belgrade-bytecode/__venv__/lib64/python3.6/site-packages/ipykernel/kernelbase.py\", line 228, in dispatch_shell\n",
      "    handler(stream, idents, msg)\n",
      "  File \"/home/pviktori/dev/slides/2017-03-23-belgrade-bytecode/__venv__/lib64/python3.6/site-packages/ipykernel/kernelbase.py\", line 390, in execute_request\n",
      "    user_expressions, allow_stdin)\n",
      "  File \"/home/pviktori/dev/slides/2017-03-23-belgrade-bytecode/__venv__/lib64/python3.6/site-packages/ipykernel/ipkernel.py\", line 196, in do_execute\n",
      "    res = shell.run_cell(code, store_history=store_history, silent=silent)\n",
      "  File \"/home/pviktori/dev/slides/2017-03-23-belgrade-bytecode/__venv__/lib64/python3.6/site-packages/ipykernel/zmqshell.py\", line 501, in run_cell\n",
      "    return super(ZMQInteractiveShell, self).run_cell(*args, **kwargs)\n",
      "  File \"/home/pviktori/dev/slides/2017-03-23-belgrade-bytecode/__venv__/lib64/python3.6/site-packages/IPython/core/interactiveshell.py\", line 2717, in run_cell\n",
      "    interactivity=interactivity, compiler=compiler, result=result)\n",
      "  File \"/home/pviktori/dev/slides/2017-03-23-belgrade-bytecode/__venv__/lib64/python3.6/site-packages/IPython/core/interactiveshell.py\", line 2827, in run_ast_nodes\n",
      "    if self.run_code(code, result):\n",
      "  File \"/home/pviktori/dev/slides/2017-03-23-belgrade-bytecode/__venv__/lib64/python3.6/site-packages/IPython/core/interactiveshell.py\", line 2881, in run_code\n",
      "    exec(code_obj, self.user_global_ns, self.user_ns)\n",
      "  File \"<ipython-input-73-872246ffc080>\", line 8, in <module>\n",
      "    print(''.join(recurse()))\n",
      "  File \"<ipython-input-73-872246ffc080>\", line 6, in recurse\n",
      "    return recurse(wait-1)\n",
      "  File \"<ipython-input-73-872246ffc080>\", line 6, in recurse\n",
      "    return recurse(wait-1)\n",
      "  File \"<ipython-input-73-872246ffc080>\", line 6, in recurse\n",
      "    return recurse(wait-1)\n",
      "  [Previous line repeated 7 more times]\n",
      "  File \"<ipython-input-73-872246ffc080>\", line 4, in recurse\n",
      "    return traceback.format_stack()\n",
      "\n"
     ]
    }
   ],
   "source": [
    "import traceback\n",
    "def recurse(wait=10):\n",
    "    if wait < 0:\n",
    "        return traceback.format_stack()\n",
    "    else:\n",
    "        return recurse(wait-1)\n",
    "\n",
    "print(''.join(recurse()))"
   ]
  },
  {
   "cell_type": "markdown",
   "metadata": {
    "deletable": true,
    "editable": true
   },
   "source": [
    "### Summary\n",
    "When code is executed, there exists a `frame` object for each running function. This object contains the current instruction, values of local variables, and a pointer to the \"parent\" frame, from which the current function was called.\n",
    "\n",
    "A traceback is generated by walking from the current frame to its parent, its parent's parent, and so on. Each time the current line is looked up based on the current instruction. (This lookup only takes place when the traceback is actually printed)."
   ]
  },
  {
   "cell_type": "markdown",
   "metadata": {
    "deletable": true,
    "editable": true
   },
   "source": [
    "---\n",
    "# Questions ?\n",
    "\n",
    "<br>\n",
    "\n",
    "> Petr Viktorin\n",
    ">\n",
    "> encukou@gmail.com\n",
    ">\n",
    "> @encukou"
   ]
  },
  {
   "cell_type": "code",
   "execution_count": 77,
   "metadata": {
    "collapsed": false
   },
   "outputs": [
    {
     "name": "stdout",
     "output_type": "stream",
     "text": [
      "'Addendums for Python Code Internals.ipynb'  __pycache__\r\n",
      "demo.py\t\t\t\t\t     'Python Code Internals.ipynb'\r\n",
      "module.py\t\t\t\t     __venv__\r\n",
      "notes.txt\r\n"
     ]
    }
   ],
   "source": [
    "!ls"
   ]
  },
  {
   "cell_type": "code",
   "execution_count": 75,
   "metadata": {
    "collapsed": false
   },
   "outputs": [
    {
     "name": "stdout",
     "output_type": "stream",
     "text": [
      "module.cpython-36.pyc\r\n"
     ]
    }
   ],
   "source": [
    "!ls __pycache__"
   ]
  },
  {
   "cell_type": "code",
   "execution_count": 76,
   "metadata": {
    "collapsed": true
   },
   "outputs": [],
   "source": []
  },
  {
   "cell_type": "code",
   "execution_count": null,
   "metadata": {
    "collapsed": true
   },
   "outputs": [],
   "source": []
  }
 ],
 "metadata": {
  "kernelspec": {
   "display_name": "Python 3",
   "language": "python",
   "name": "python3"
  },
  "language_info": {
   "codemirror_mode": {
    "name": "ipython",
    "version": 3
   },
   "file_extension": ".py",
   "mimetype": "text/x-python",
   "name": "python",
   "nbconvert_exporter": "python",
   "pygments_lexer": "ipython3",
   "version": "3.6.0"
  }
 },
 "nbformat": 4,
 "nbformat_minor": 0
}
