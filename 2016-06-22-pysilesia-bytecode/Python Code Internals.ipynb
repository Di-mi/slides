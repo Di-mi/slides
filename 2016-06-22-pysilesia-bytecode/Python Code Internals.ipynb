{
 "cells": [
  {
   "cell_type": "markdown",
   "metadata": {},
   "source": [
    "# CPython compilation & bytecode\n",
    "\n",
    "So, you wrote some Python code. What needs to happen before it starts running? How is it represented before and during execution? Find answers here.\n",
    "\n",
    "Note: Everything here is specific to CPython – the reference implementation. Other Python interpreters, like PyPy, Jython or Batavia, do things very differently."
   ]
  },
  {
   "cell_type": "code",
   "execution_count": null,
   "metadata": {
    "collapsed": true
   },
   "outputs": [],
   "source": [
    "\n",
    "\n",
    "\n",
    "\n",
    "\n",
    "\n",
    "\n",
    "\n",
    "\n",
    "\n",
    "\n",
    "\n",
    "\n",
    "\n",
    "\n",
    "\n",
    "\n",
    "\n",
    "\n",
    "\n",
    "\n",
    "\n",
    "\n",
    "\n",
    "\n",
    "\n",
    "\n",
    "\n",
    "\n",
    "\n",
    "\n",
    "\n",
    "\n",
    "\n",
    "\n",
    "\n",
    "\n"
   ]
  },
  {
   "cell_type": "code",
   "execution_count": 2,
   "metadata": {
    "collapsed": true
   },
   "outputs": [],
   "source": [
    "import os\n",
    "import sys\n",
    "import time\n",
    "import inspect\n",
    "import datetime"
   ]
  },
  {
   "cell_type": "markdown",
   "metadata": {},
   "source": [
    "---\n",
    "# Lexical analysis\n",
    "(tokenization)"
   ]
  },
  {
   "cell_type": "code",
   "execution_count": 3,
   "metadata": {
    "collapsed": true
   },
   "outputs": [],
   "source": [
    "import tokenize"
   ]
  },
  {
   "cell_type": "code",
   "execution_count": 4,
   "metadata": {
    "collapsed": false
   },
   "outputs": [
    {
     "name": "stdout",
     "output_type": "stream",
     "text": [
      "     1\ta = 3\r\n",
      "     2\tb = 'Hello '\r\n",
      "     3\tprint(a * b)\r\n",
      "     4\t\r\n",
      "     5\tdef func(a=1, *b, **c):\r\n",
      "     6\t    return 7 + 3\r\n"
     ]
    }
   ],
   "source": [
    "!cat -n module.py"
   ]
  },
  {
   "cell_type": "code",
   "execution_count": 5,
   "metadata": {
    "collapsed": false
   },
   "outputs": [
    {
     "name": "stdout",
     "output_type": "stream",
     "text": [
      "0,0-0,0:            ENCODING       'utf-8'        \r\n",
      "1,0-1,1:            NAME           'a'            \r\n",
      "1,2-1,3:            OP             '='            \r\n",
      "1,4-1,5:            NUMBER         '3'            \r\n",
      "1,5-1,6:            NEWLINE        '\\n'           \r\n",
      "2,0-2,1:            NAME           'b'            \r\n",
      "2,2-2,3:            OP             '='            \r\n",
      "2,4-2,12:           STRING         \"'Hello '\"     \r\n",
      "2,12-2,13:          NEWLINE        '\\n'           \r\n",
      "3,0-3,5:            NAME           'print'        \r\n",
      "3,5-3,6:            OP             '('            \r\n",
      "3,6-3,7:            NAME           'a'            \r\n",
      "3,8-3,9:            OP             '*'            \r\n",
      "3,10-3,11:          NAME           'b'            \r\n",
      "3,11-3,12:          OP             ')'            \r\n",
      "3,12-3,13:          NEWLINE        '\\n'           \r\n",
      "4,0-4,1:            NL             '\\n'           \r\n",
      "5,0-5,3:            NAME           'def'          \r\n",
      "5,4-5,8:            NAME           'func'         \r\n",
      "5,8-5,9:            OP             '('            \r\n",
      "5,9-5,10:           NAME           'a'            \r\n",
      "5,10-5,11:          OP             '='            \r\n",
      "5,11-5,12:          NUMBER         '1'            \r\n",
      "5,12-5,13:          OP             ','            \r\n",
      "5,14-5,15:          OP             '*'            \r\n",
      "5,15-5,16:          NAME           'b'            \r\n",
      "5,16-5,17:          OP             ','            \r\n",
      "5,18-5,20:          OP             '**'           \r\n",
      "5,20-5,21:          NAME           'c'            \r\n",
      "5,21-5,22:          OP             ')'            \r\n",
      "5,22-5,23:          OP             ':'            \r\n",
      "5,23-5,24:          NEWLINE        '\\n'           \r\n",
      "6,0-6,4:            INDENT         '    '         \r\n",
      "6,4-6,10:           NAME           'return'       \r\n",
      "6,11-6,12:          NUMBER         '7'            \r\n",
      "6,13-6,14:          OP             '+'            \r\n",
      "6,15-6,16:          NUMBER         '3'            \r\n",
      "6,16-6,17:          NEWLINE        '\\n'           \r\n",
      "7,0-7,0:            DEDENT         ''             \r\n",
      "7,0-7,0:            ENDMARKER      ''             \r\n"
     ]
    }
   ],
   "source": [
    "!python3 -m tokenize module.py"
   ]
  },
  {
   "cell_type": "code",
   "execution_count": 6,
   "metadata": {
    "collapsed": false
   },
   "outputs": [
    {
     "name": "stdout",
     "output_type": "stream",
     "text": [
      "TokenInfo(type=59 (ENCODING), string='utf-8', start=(0, 0), end=(0, 0), line='')\n",
      "TokenInfo(type=1 (NAME), string='a', start=(1, 0), end=(1, 1), line='a = 3\\n')\n",
      "TokenInfo(type=53 (OP), string='=', start=(1, 2), end=(1, 3), line='a = 3\\n')\n",
      "TokenInfo(type=2 (NUMBER), string='3', start=(1, 4), end=(1, 5), line='a = 3\\n')\n",
      "TokenInfo(type=4 (NEWLINE), string='\\n', start=(1, 5), end=(1, 6), line='a = 3\\n')\n",
      "TokenInfo(type=1 (NAME), string='b', start=(2, 0), end=(2, 1), line=\"b = 'Hello '\\n\")\n",
      "TokenInfo(type=53 (OP), string='=', start=(2, 2), end=(2, 3), line=\"b = 'Hello '\\n\")\n",
      "TokenInfo(type=3 (STRING), string=\"'Hello '\", start=(2, 4), end=(2, 12), line=\"b = 'Hello '\\n\")\n",
      "TokenInfo(type=4 (NEWLINE), string='\\n', start=(2, 12), end=(2, 13), line=\"b = 'Hello '\\n\")\n",
      "TokenInfo(type=1 (NAME), string='print', start=(3, 0), end=(3, 5), line='print(a * b)\\n')\n",
      "TokenInfo(type=53 (OP), string='(', start=(3, 5), end=(3, 6), line='print(a * b)\\n')\n",
      "TokenInfo(type=1 (NAME), string='a', start=(3, 6), end=(3, 7), line='print(a * b)\\n')\n",
      "TokenInfo(type=53 (OP), string='*', start=(3, 8), end=(3, 9), line='print(a * b)\\n')\n",
      "TokenInfo(type=1 (NAME), string='b', start=(3, 10), end=(3, 11), line='print(a * b)\\n')\n",
      "TokenInfo(type=53 (OP), string=')', start=(3, 11), end=(3, 12), line='print(a * b)\\n')\n",
      "TokenInfo(type=4 (NEWLINE), string='\\n', start=(3, 12), end=(3, 13), line='print(a * b)\\n')\n",
      "TokenInfo(type=58 (NL), string='\\n', start=(4, 0), end=(4, 1), line='\\n')\n",
      "TokenInfo(type=1 (NAME), string='def', start=(5, 0), end=(5, 3), line='def func(a=1, *b, **c):\\n')\n",
      "TokenInfo(type=1 (NAME), string='func', start=(5, 4), end=(5, 8), line='def func(a=1, *b, **c):\\n')\n",
      "TokenInfo(type=53 (OP), string='(', start=(5, 8), end=(5, 9), line='def func(a=1, *b, **c):\\n')\n",
      "TokenInfo(type=1 (NAME), string='a', start=(5, 9), end=(5, 10), line='def func(a=1, *b, **c):\\n')\n",
      "TokenInfo(type=53 (OP), string='=', start=(5, 10), end=(5, 11), line='def func(a=1, *b, **c):\\n')\n",
      "TokenInfo(type=2 (NUMBER), string='1', start=(5, 11), end=(5, 12), line='def func(a=1, *b, **c):\\n')\n",
      "TokenInfo(type=53 (OP), string=',', start=(5, 12), end=(5, 13), line='def func(a=1, *b, **c):\\n')\n",
      "TokenInfo(type=53 (OP), string='*', start=(5, 14), end=(5, 15), line='def func(a=1, *b, **c):\\n')\n",
      "TokenInfo(type=1 (NAME), string='b', start=(5, 15), end=(5, 16), line='def func(a=1, *b, **c):\\n')\n",
      "TokenInfo(type=53 (OP), string=',', start=(5, 16), end=(5, 17), line='def func(a=1, *b, **c):\\n')\n",
      "TokenInfo(type=53 (OP), string='**', start=(5, 18), end=(5, 20), line='def func(a=1, *b, **c):\\n')\n",
      "TokenInfo(type=1 (NAME), string='c', start=(5, 20), end=(5, 21), line='def func(a=1, *b, **c):\\n')\n",
      "TokenInfo(type=53 (OP), string=')', start=(5, 21), end=(5, 22), line='def func(a=1, *b, **c):\\n')\n",
      "TokenInfo(type=53 (OP), string=':', start=(5, 22), end=(5, 23), line='def func(a=1, *b, **c):\\n')\n",
      "TokenInfo(type=4 (NEWLINE), string='\\n', start=(5, 23), end=(5, 24), line='def func(a=1, *b, **c):\\n')\n",
      "TokenInfo(type=5 (INDENT), string='    ', start=(6, 0), end=(6, 4), line='    return 7 + 3\\n')\n",
      "TokenInfo(type=1 (NAME), string='return', start=(6, 4), end=(6, 10), line='    return 7 + 3\\n')\n",
      "TokenInfo(type=2 (NUMBER), string='7', start=(6, 11), end=(6, 12), line='    return 7 + 3\\n')\n",
      "TokenInfo(type=53 (OP), string='+', start=(6, 13), end=(6, 14), line='    return 7 + 3\\n')\n",
      "TokenInfo(type=2 (NUMBER), string='3', start=(6, 15), end=(6, 16), line='    return 7 + 3\\n')\n",
      "TokenInfo(type=4 (NEWLINE), string='\\n', start=(6, 16), end=(6, 17), line='    return 7 + 3\\n')\n",
      "TokenInfo(type=6 (DEDENT), string='', start=(7, 0), end=(7, 0), line='')\n",
      "TokenInfo(type=0 (ENDMARKER), string='', start=(7, 0), end=(7, 0), line='')\n"
     ]
    }
   ],
   "source": [
    " with open('module.py' ,'rb') as f:\n",
    "    for token in tokenize.tokenize(f.readline):\n",
    "        print(token)"
   ]
  },
  {
   "cell_type": "markdown",
   "metadata": {},
   "source": [
    "### Summary\n",
    "\n",
    "When Python reads source code, it first converts it to a stream of *tokens* – word-like units of a language.\n",
    "\n",
    "Two of Python's tokens are fairly unique among programming languages: `INDENT` and `DEDENT`."
   ]
  },
  {
   "cell_type": "markdown",
   "metadata": {},
   "source": [
    "---\n",
    "\n",
    "# Parsing\n",
    "(Abstract Syntax Tree)"
   ]
  },
  {
   "cell_type": "code",
   "execution_count": 7,
   "metadata": {
    "collapsed": true
   },
   "outputs": [],
   "source": [
    "import ast"
   ]
  },
  {
   "cell_type": "code",
   "execution_count": 8,
   "metadata": {
    "collapsed": false
   },
   "outputs": [
    {
     "name": "stdout",
     "output_type": "stream",
     "text": [
      "     1\ta = 3\r\n",
      "     2\tb = 'Hello '\r\n",
      "     3\tprint(a * b)\r\n",
      "     4\t\r\n",
      "     5\tdef func(a=1, *b, **c):\r\n",
      "     6\t    return 7 + 3\r\n"
     ]
    }
   ],
   "source": [
    "!cat -n module.py"
   ]
  },
  {
   "cell_type": "code",
   "execution_count": 9,
   "metadata": {
    "collapsed": false
   },
   "outputs": [
    {
     "name": "stdout",
     "output_type": "stream",
     "text": [
      "<_ast.Module object at 0x7f4a05b46f28>\n"
     ]
    }
   ],
   "source": [
    "with open('module.py' ,'rb') as f:\n",
    "    tree = ast.parse(f.read())\n",
    "\n",
    "print(tree)"
   ]
  },
  {
   "cell_type": "code",
   "execution_count": 10,
   "metadata": {
    "collapsed": false
   },
   "outputs": [
    {
     "name": "stdout",
     "output_type": "stream",
     "text": [
      "('body',)\n"
     ]
    }
   ],
   "source": [
    "print(tree._fields)"
   ]
  },
  {
   "cell_type": "code",
   "execution_count": 11,
   "metadata": {
    "collapsed": false
   },
   "outputs": [
    {
     "name": "stdout",
     "output_type": "stream",
     "text": [
      "1 <_ast.Assign object at 0x7f4a05b46e10>\n",
      "2 <_ast.Assign object at 0x7f4a05b46ef0>\n",
      "3 <_ast.Expr object at 0x7f4a05b46b38>\n",
      "5 <_ast.FunctionDef object at 0x7f4a05b469b0>\n"
     ]
    }
   ],
   "source": [
    "for node in tree.body:\n",
    "    print(node.lineno, node)"
   ]
  },
  {
   "cell_type": "code",
   "execution_count": 12,
   "metadata": {
    "collapsed": false,
    "scrolled": false
   },
   "outputs": [
    {
     "name": "stdout",
     "output_type": "stream",
     "text": [
      "Module\n",
      "  .body: [\n",
      "    Assign\n",
      "      .targets: [\n",
      "        Name\n",
      "          .id = 'a'\n",
      "          .ctx:\n",
      "            Store\n",
      "      ]\n",
      "      .value:\n",
      "        Num\n",
      "          .n = 3\n",
      "    Assign\n",
      "      .targets: [\n",
      "        Name\n",
      "          .id = 'b'\n",
      "          .ctx:\n",
      "            Store\n",
      "      ]\n",
      "      .value:\n",
      "        Str\n",
      "          .s = 'Hello '\n",
      "    Expr\n",
      "      .value:\n",
      "        Call\n",
      "          .func:\n",
      "            Name\n",
      "              .id = 'print'\n",
      "              .ctx:\n",
      "                Load\n",
      "          .args: [\n",
      "            BinOp\n",
      "              .left:\n",
      "                Name\n",
      "                  .id = 'a'\n",
      "                  .ctx:\n",
      "                    Load\n",
      "              .op:\n",
      "                Mult\n",
      "              .right:\n",
      "                Name\n",
      "                  .id = 'b'\n",
      "                  .ctx:\n",
      "                    Load\n",
      "          ]\n",
      "          .keywords: []\n",
      "    FunctionDef\n",
      "      .name = 'func'\n",
      "      .args:\n",
      "        arguments\n",
      "          .args: [\n",
      "            arg\n",
      "              .arg = 'a'\n",
      "              .annotation = None\n",
      "          ]\n",
      "          .vararg:\n",
      "            arg\n",
      "              .arg = 'b'\n",
      "              .annotation = None\n",
      "          .kwonlyargs: []\n",
      "          .kw_defaults: []\n",
      "          .kwarg:\n",
      "            arg\n",
      "              .arg = 'c'\n",
      "              .annotation = None\n",
      "          .defaults: [\n",
      "            Num\n",
      "              .n = 1\n",
      "          ]\n",
      "      .body: [\n",
      "        Return\n",
      "          .value:\n",
      "            BinOp\n",
      "              .left:\n",
      "                Num\n",
      "                  .n = 7\n",
      "              .op:\n",
      "                Add\n",
      "              .right:\n",
      "                Num\n",
      "                  .n = 3\n",
      "      ]\n",
      "      .decorator_list: []\n",
      "      .returns = None\n",
      "  ]\n"
     ]
    }
   ],
   "source": [
    "def dump_ast(node, indent=''):\n",
    "    print('{}{}'.format(indent, type(node).__name__))\n",
    "    for name, value in ast.iter_fields(node):\n",
    "        if isinstance(value, ast.AST):\n",
    "            print('{}  .{}:'.format(indent, name))\n",
    "            dump_ast(value, indent + '    ')\n",
    "        elif isinstance(value, list):\n",
    "            if not value:\n",
    "                print('{}  .{}: []'.format(indent, name))\n",
    "            else:\n",
    "                print('{}  .{}: ['.format(indent, name))\n",
    "                for child in value:\n",
    "                    dump_ast(child, indent + '    ')\n",
    "                print('{}  ]'.format(indent))\n",
    "        else:\n",
    "            print('{}  .{} = {}'.format(indent, name, repr(value)))\n",
    "\n",
    "dump_ast(tree)"
   ]
  },
  {
   "cell_type": "markdown",
   "metadata": {},
   "source": [
    "See also: \"Full Grammar Specification\" in the Python docs\n",
    "\n",
    "## Summary\n",
    "\n",
    "The token stream is parsed, using Python's grammar, to arrive at the Abstract Syntax Tree – a graph-like representation of the program.\n",
    "\n",
    "It is possible to modify the AST, or generate it programmatically (even though the tools in the standard library aren't too usable). People have used this to add Lisp-like macros to Python, for example."
   ]
  },
  {
   "cell_type": "markdown",
   "metadata": {},
   "source": [
    "---\n",
    "# Code Objects"
   ]
  },
  {
   "cell_type": "code",
   "execution_count": 13,
   "metadata": {
    "collapsed": false
   },
   "outputs": [
    {
     "name": "stdout",
     "output_type": "stream",
     "text": [
      "a = 3\r\n",
      "b = 'Hello '\r\n",
      "print(a * b)\r\n",
      "\r\n",
      "def func(a=1, *b, **c):\r\n",
      "    return 7 + 3\r\n"
     ]
    }
   ],
   "source": [
    "!cat module.py"
   ]
  },
  {
   "cell_type": "code",
   "execution_count": 14,
   "metadata": {
    "collapsed": false
   },
   "outputs": [
    {
     "name": "stdout",
     "output_type": "stream",
     "text": [
      "/home/pviktori/dev/slides/2016-06-22-pysilesia-bytecode/module.py\n"
     ]
    }
   ],
   "source": [
    "filename = os.path.abspath('module.py')\n",
    "print(filename)"
   ]
  },
  {
   "cell_type": "code",
   "execution_count": 15,
   "metadata": {
    "collapsed": false
   },
   "outputs": [
    {
     "name": "stdout",
     "output_type": "stream",
     "text": [
      "<code object <module> at 0x7f4a05b2bf60, file \"/home/pviktori/dev/slides/2016-06-22-pysilesia-bytecode/module.py\", line 1>\n"
     ]
    }
   ],
   "source": [
    "code = compile(tree, filename=filename, mode='exec')\n",
    "\n",
    "print(code)"
   ]
  },
  {
   "cell_type": "code",
   "execution_count": 18,
   "metadata": {
    "collapsed": false
   },
   "outputs": [
    {
     "name": "stdout",
     "output_type": "stream",
     "text": [
      "Hello Hello Hello \n"
     ]
    }
   ],
   "source": [
    "exec(code)"
   ]
  },
  {
   "cell_type": "code",
   "execution_count": 19,
   "metadata": {
    "collapsed": false
   },
   "outputs": [
    {
     "name": "stdout",
     "output_type": "stream",
     "text": [
      "<code object <module> at 0x7f4a05b2bf60, file \"/home/pviktori/dev/slides/2016-06-22-pysilesia-bytecode/module.py\", line 1>\n",
      "  co_argcount: 0\n",
      "  co_cellvars: ()\n",
      "  co_code: b'd\\x00\\x00Z\\x00\\x00d\\x01\\x00Z\\x01\\x00e\\x02\\x00e\\x00\\x00e\\x01\\x00\\x14\\x83\\x01\\x00\\x01d\\x02\\x00d\\x03\\x00d\\x04\\x00\\x84\\x01\\x00Z\\x03\\x00d\\x05\\x00S'\n",
      "  co_consts: (3, 'Hello ', 1, <code object func at 0x7f4a05b2bb70, file \"/home/pviktori/dev/slides/2016-06-22-pysilesia-bytecode/module.py\", line 5>, 'func', None)\n",
      "  co_filename: /home/pviktori/dev/slides/2016-06-22-pysilesia-bytecode/module.py\n",
      "  co_firstlineno: 1\n",
      "  co_flags: 64\n",
      "  co_freevars: ()\n",
      "  co_kwonlyargcount: 0\n",
      "  co_lnotab: b'\\x06\\x01\\x06\\x01\\x0e\\x02'\n",
      "  co_name: <module>\n",
      "  co_names: ('a', 'b', 'print', 'func')\n",
      "  co_nlocals: 0\n",
      "  co_stacksize: 3\n",
      "  co_varnames: ()\n"
     ]
    }
   ],
   "source": [
    "def dump_code_attrs(code):\n",
    "    print(code)\n",
    "    for attr_name in dir(code):\n",
    "        if not attr_name.startswith('__'):\n",
    "            print('  {}: {}'.format(attr_name, getattr(code, attr_name)))\n",
    "\n",
    "dump_code_attrs(code)"
   ]
  },
  {
   "cell_type": "code",
   "execution_count": 20,
   "metadata": {
    "collapsed": false
   },
   "outputs": [
    {
     "name": "stdout",
     "output_type": "stream",
     "text": [
      "<code object func at 0x7f4a05b2bb70, file \"/home/pviktori/dev/slides/2016-06-22-pysilesia-bytecode/module.py\", line 5>\n",
      "  co_argcount: 1\n",
      "  co_cellvars: ()\n",
      "  co_code: b'd\\x03\\x00S'\n",
      "  co_consts: (None, 7, 3, 10)\n",
      "  co_filename: /home/pviktori/dev/slides/2016-06-22-pysilesia-bytecode/module.py\n",
      "  co_firstlineno: 5\n",
      "  co_flags: 79\n",
      "  co_freevars: ()\n",
      "  co_kwonlyargcount: 0\n",
      "  co_lnotab: b'\\x00\\x01'\n",
      "  co_name: func\n",
      "  co_names: ()\n",
      "  co_nlocals: 3\n",
      "  co_stacksize: 2\n",
      "  co_varnames: ('a', 'b', 'c')\n"
     ]
    }
   ],
   "source": [
    "func_code = code.co_consts[3]\n",
    "dump_code_attrs(func_code)"
   ]
  },
  {
   "cell_type": "code",
   "execution_count": 21,
   "metadata": {
    "collapsed": false
   },
   "outputs": [
    {
     "name": "stdout",
     "output_type": "stream",
     "text": [
      "<code object a_function at 0x7f4a046bdae0, file \"<ipython-input-21-4c1d72ac596c>\", line 1>\n",
      "  co_argcount: 0\n",
      "  co_cellvars: ()\n",
      "  co_code: b't\\x00\\x00|\\x00\\x00\\x83\\x01\\x00\\x01t\\x01\\x00|\\x00\\x00\\x83\\x01\\x00S'\n",
      "  co_consts: (None,)\n",
      "  co_filename: <ipython-input-21-4c1d72ac596c>\n",
      "  co_firstlineno: 1\n",
      "  co_flags: 71\n",
      "  co_freevars: ()\n",
      "  co_kwonlyargcount: 0\n",
      "  co_lnotab: b'\\x00\\x01\\n\\x01'\n",
      "  co_name: a_function\n",
      "  co_names: ('print', 'len')\n",
      "  co_nlocals: 1\n",
      "  co_stacksize: 2\n",
      "  co_varnames: ('args',)\n"
     ]
    }
   ],
   "source": [
    "def a_function(*args):\n",
    "    print(args)\n",
    "    return len(args)\n",
    "\n",
    "dump_code_attrs(a_function.__code__)"
   ]
  },
  {
   "cell_type": "markdown",
   "metadata": {},
   "source": [
    "### Summary\n",
    "The Abstract Syntax Tree can be compiled down to a *code object*, a structure that holds all details of the program in a compact form – ready to be executed or saved.\n",
    "\n",
    "The code objects contains, among other things, variable names and constants used in the code. Functions defined in the code are also represented as constants: other code objects!"
   ]
  },
  {
   "cell_type": "markdown",
   "metadata": {},
   "source": [
    "---\n",
    "# Bytecode"
   ]
  },
  {
   "cell_type": "code",
   "execution_count": 22,
   "metadata": {
    "collapsed": true
   },
   "outputs": [],
   "source": [
    "import dis"
   ]
  },
  {
   "cell_type": "code",
   "execution_count": 23,
   "metadata": {
    "collapsed": false
   },
   "outputs": [
    {
     "name": "stdout",
     "output_type": "stream",
     "text": [
      "a = 3\r\n",
      "b = 'Hello '\r\n",
      "print(a * b)\r\n",
      "\r\n",
      "def func(a=1, *b, **c):\r\n",
      "    return 7 + 3\r\n"
     ]
    }
   ],
   "source": [
    "!cat module.py"
   ]
  },
  {
   "cell_type": "code",
   "execution_count": 24,
   "metadata": {
    "collapsed": false
   },
   "outputs": [
    {
     "name": "stdout",
     "output_type": "stream",
     "text": [
      "[100, 0, 0, 90, 0, 0, 100, 1, 0, 90, 1, 0, 101, 2, 0, 101, 0, 0, 101, 1, 0, 20, 131, 1, 0, 1, 100, 2, 0, 100, 3, 0, 100, 4, 0, 132, 1, 0, 90, 3, 0, 100, 5, 0, 83]\n"
     ]
    }
   ],
   "source": [
    "print(list(b for b in code.co_code))"
   ]
  },
  {
   "cell_type": "code",
   "execution_count": 25,
   "metadata": {
    "collapsed": false
   },
   "outputs": [
    {
     "name": "stdout",
     "output_type": "stream",
     "text": [
      "\n",
      " 0:  100      0: LOAD_CONST(3)\n",
      " 3:   90      0: STORE_NAME(a)\n",
      "\n",
      " 6:  100      1: LOAD_CONST('Hello ')\n",
      " 9:   90      1: STORE_NAME(b)\n",
      "\n",
      "12:  101      2: LOAD_NAME(print)\n",
      "15:  101      0: LOAD_NAME(a)\n",
      "18:  101      1: LOAD_NAME(b)\n",
      "21:   20      -: BINARY_MULTIPLY()\n",
      "22:  131      1: CALL_FUNCTION(1 positional, 0 keyword pair)\n",
      "25:    1      -: POP_TOP()\n",
      "\n",
      "26:  100      2: LOAD_CONST(1)\n",
      "29:  100      3: LOAD_CONST(<code object func at 0x7f4a05b2bb70, file \"/home/pviktori/dev/slides/2016-06-22-pysilesia-bytecode/module.py\", line 5>)\n",
      "32:  100      4: LOAD_CONST('func')\n",
      "35:  132      1: MAKE_FUNCTION()\n",
      "38:   90      3: STORE_NAME(func)\n",
      "41:  100      5: LOAD_CONST(None)\n",
      "44:   83      -: RETURN_VALUE()\n"
     ]
    }
   ],
   "source": [
    "def print_dis(code):\n",
    "    line_starts = [a for a, b in dis.findlinestarts(code)]\n",
    "    for instr in dis.get_instructions(code):\n",
    "        if instr.offset in line_starts:\n",
    "            print()\n",
    "        print('{i.offset:2}:  {i.opcode:3} {arg:>6}: {i.opname}({i.argrepr})'.format(\n",
    "                i=instr,\n",
    "                arg='-' if instr.arg is None else instr.arg))\n",
    "\n",
    "print_dis(code)\n"
   ]
  },
  {
   "cell_type": "code",
   "execution_count": 26,
   "metadata": {
    "collapsed": false
   },
   "outputs": [
    {
     "data": {
      "text/plain": [
       "90"
      ]
     },
     "execution_count": 26,
     "metadata": {},
     "output_type": "execute_result"
    }
   ],
   "source": [
    "dis.HAVE_ARGUMENT"
   ]
  },
  {
   "cell_type": "code",
   "execution_count": 27,
   "metadata": {
    "collapsed": false
   },
   "outputs": [
    {
     "name": "stdout",
     "output_type": "stream",
     "text": [
      "100\n",
      "LOAD_CONST\n"
     ]
    }
   ],
   "source": [
    "print(dis.opmap['LOAD_CONST'])\n",
    "print(dis.opname[100])"
   ]
  },
  {
   "cell_type": "code",
   "execution_count": 28,
   "metadata": {
    "collapsed": false
   },
   "outputs": [
    {
     "data": {
      "text/plain": [
       "114"
      ]
     },
     "execution_count": 28,
     "metadata": {},
     "output_type": "execute_result"
    }
   ],
   "source": [
    "len(dis.opmap)"
   ]
  },
  {
   "cell_type": "code",
   "execution_count": 29,
   "metadata": {
    "collapsed": false
   },
   "outputs": [
    {
     "name": "stdout",
     "output_type": "stream",
     "text": [
      "  1           0 LOAD_CONST               0 (3)\r\n",
      "              3 STORE_NAME               0 (a)\r\n",
      "\r\n",
      "  2           6 LOAD_CONST               1 ('Hello ')\r\n",
      "              9 STORE_NAME               1 (b)\r\n",
      "\r\n",
      "  3          12 LOAD_NAME                2 (print)\r\n",
      "             15 LOAD_NAME                0 (a)\r\n",
      "             18 LOAD_NAME                1 (b)\r\n",
      "             21 BINARY_MULTIPLY\r\n",
      "             22 CALL_FUNCTION            1 (1 positional, 0 keyword pair)\r\n",
      "             25 POP_TOP\r\n",
      "\r\n",
      "  5          26 LOAD_CONST               2 (1)\r\n",
      "             29 LOAD_CONST               3 (<code object func at 0x7faf5a868540, file \"module.py\", line 5>)\r\n",
      "             32 LOAD_CONST               4 ('func')\r\n",
      "             35 MAKE_FUNCTION            1\r\n",
      "             38 STORE_NAME               3 (func)\r\n",
      "             41 LOAD_CONST               5 (None)\r\n",
      "             44 RETURN_VALUE\r\n"
     ]
    }
   ],
   "source": [
    "!python3 -m dis module.py"
   ]
  },
  {
   "cell_type": "code",
   "execution_count": 30,
   "metadata": {
    "collapsed": false
   },
   "outputs": [
    {
     "name": "stdout",
     "output_type": "stream",
     "text": [
      "a = 3\r\n",
      "b = 'Hello '\r\n",
      "print(a * b)\r\n",
      "\r\n",
      "def func(a=1, *b, **c):\r\n",
      "    return 7 + 3\r\n"
     ]
    }
   ],
   "source": [
    "!cat module.py"
   ]
  },
  {
   "cell_type": "code",
   "execution_count": 31,
   "metadata": {
    "collapsed": false
   },
   "outputs": [
    {
     "name": "stdout",
     "output_type": "stream",
     "text": [
      "\n",
      " 0:  120     30: SETUP_LOOP(to 33)\n",
      " 3:  116      0: LOAD_GLOBAL(range)\n",
      " 6:  100      1: LOAD_CONST(100)\n",
      " 9:  131      1: CALL_FUNCTION(1 positional, 0 keyword pair)\n",
      "12:   68      -: GET_ITER()\n",
      "13:   93     16: FOR_ITER(to 32)\n",
      "16:  125      0: STORE_FAST(i)\n",
      "\n",
      "19:  116      1: LOAD_GLOBAL(print)\n",
      "22:  124      0: LOAD_FAST(i)\n",
      "25:  131      1: CALL_FUNCTION(1 positional, 0 keyword pair)\n",
      "28:    1      -: POP_TOP()\n",
      "29:  113     13: JUMP_ABSOLUTE()\n",
      "32:   87      -: POP_BLOCK()\n",
      "33:  100      0: LOAD_CONST(None)\n",
      "36:   83      -: RETURN_VALUE()\n"
     ]
    }
   ],
   "source": [
    "def loop_example():\n",
    "    for i in range(100):\n",
    "        print(i)\n",
    "\n",
    "print_dis(loop_example.__code__)"
   ]
  },
  {
   "cell_type": "markdown",
   "metadata": {},
   "source": [
    "### Summary\n",
    "The *bytecode* is a set of instructions for the Python interpreter – a stack-based virtual machine. This is the most important part of a code object – it tells Python what to do.\n",
    "\n",
    "Each instruction is represented either as a single byte (instructions with opcodes under a certain number), or as three bytes: a one-byte instruction and two-byte argument."
   ]
  },
  {
   "cell_type": "markdown",
   "metadata": {},
   "source": [
    "## Classes\n",
    "Let's see some fried brains!"
   ]
  },
  {
   "cell_type": "code",
   "execution_count": 32,
   "metadata": {
    "collapsed": false
   },
   "outputs": [
    {
     "name": "stdout",
     "output_type": "stream",
     "text": [
      "<code object make_class at 0x7f4a046801e0, file \"<ipython-input-32-30532d0627d4>\", line 1>\n",
      "  co_argcount: 0\n",
      "  co_cellvars: ()\n",
      "  co_code: b'Gd\\x01\\x00d\\x02\\x00\\x84\\x00\\x00d\\x02\\x00\\x83\\x02\\x00}\\x00\\x00d\\x00\\x00S'\n",
      "  co_consts: (None, <code object ClassExample at 0x7f4a04680300, file \"<ipython-input-32-30532d0627d4>\", line 2>, 'ClassExample')\n",
      "  co_filename: <ipython-input-32-30532d0627d4>\n",
      "  co_firstlineno: 1\n",
      "  co_flags: 67\n",
      "  co_freevars: ()\n",
      "  co_kwonlyargcount: 0\n",
      "  co_lnotab: b'\\x00\\x01'\n",
      "  co_name: make_class\n",
      "  co_names: ()\n",
      "  co_nlocals: 1\n",
      "  co_stacksize: 3\n",
      "  co_varnames: ('ClassExample',)\n",
      "\n",
      " 0:   71      -: LOAD_BUILD_CLASS()\n",
      " 1:  100      1: LOAD_CONST(<code object ClassExample at 0x7f4a04680300, file \"<ipython-input-32-30532d0627d4>\", line 2>)\n",
      " 4:  100      2: LOAD_CONST('ClassExample')\n",
      " 7:  132      0: MAKE_FUNCTION()\n",
      "10:  100      2: LOAD_CONST('ClassExample')\n",
      "13:  131      2: CALL_FUNCTION(2 positional, 0 keyword pair)\n",
      "16:  125      0: STORE_FAST(ClassExample)\n",
      "19:  100      0: LOAD_CONST(None)\n",
      "22:   83      -: RETURN_VALUE()\n"
     ]
    }
   ],
   "source": [
    "def make_class():\n",
    "    class ClassExample:\n",
    "        def __init__(self, name):\n",
    "            self.name = name\n",
    "\n",
    "dump_code_attrs(make_class.__code__)\n",
    "print_dis(make_class.__code__)"
   ]
  },
  {
   "cell_type": "code",
   "execution_count": 33,
   "metadata": {
    "collapsed": false
   },
   "outputs": [
    {
     "name": "stdout",
     "output_type": "stream",
     "text": [
      "Help on built-in function __build_class__ in module builtins:\n",
      "\n",
      "__build_class__(...)\n",
      "    __build_class__(func, name, *bases, metaclass=None, **kwds) -> class\n",
      "    \n",
      "    Internal helper function used by the class statement.\n",
      "\n"
     ]
    }
   ],
   "source": [
    "help(__build_class__)"
   ]
  },
  {
   "cell_type": "code",
   "execution_count": 34,
   "metadata": {
    "collapsed": false
   },
   "outputs": [
    {
     "name": "stdout",
     "output_type": "stream",
     "text": [
      "<code object ClassExample at 0x7f4a04680300, file \"<ipython-input-32-30532d0627d4>\", line 2>\n",
      "  co_argcount: 0\n",
      "  co_cellvars: ()\n",
      "  co_code: b'e\\x00\\x00Z\\x01\\x00d\\x00\\x00Z\\x02\\x00d\\x01\\x00d\\x02\\x00\\x84\\x00\\x00Z\\x03\\x00d\\x03\\x00S'\n",
      "  co_consts: ('make_class.<locals>.ClassExample', <code object __init__ at 0x7f4a046bddb0, file \"<ipython-input-32-30532d0627d4>\", line 3>, 'make_class.<locals>.ClassExample.__init__', None)\n",
      "  co_filename: <ipython-input-32-30532d0627d4>\n",
      "  co_firstlineno: 2\n",
      "  co_flags: 64\n",
      "  co_freevars: ()\n",
      "  co_kwonlyargcount: 0\n",
      "  co_lnotab: b'\\x0c\\x01'\n",
      "  co_name: ClassExample\n",
      "  co_names: ('__name__', '__module__', '__qualname__', '__init__')\n",
      "  co_nlocals: 0\n",
      "  co_stacksize: 2\n",
      "  co_varnames: ()\n",
      "\n",
      " 0:  101      0: LOAD_NAME(__name__)\n",
      " 3:   90      1: STORE_NAME(__module__)\n",
      " 6:  100      0: LOAD_CONST('make_class.<locals>.ClassExample')\n",
      " 9:   90      2: STORE_NAME(__qualname__)\n",
      "\n",
      "12:  100      1: LOAD_CONST(<code object __init__ at 0x7f4a046bddb0, file \"<ipython-input-32-30532d0627d4>\", line 3>)\n",
      "15:  100      2: LOAD_CONST('make_class.<locals>.ClassExample.__init__')\n",
      "18:  132      0: MAKE_FUNCTION()\n",
      "21:   90      3: STORE_NAME(__init__)\n",
      "24:  100      3: LOAD_CONST(None)\n",
      "27:   83      -: RETURN_VALUE()\n"
     ]
    }
   ],
   "source": [
    "class_code = make_class.__code__.co_consts[1]\n",
    "dump_code_attrs(class_code)\n",
    "print_dis(class_code)"
   ]
  },
  {
   "cell_type": "markdown",
   "metadata": {},
   "source": [
    "---\n",
    "# Serialization"
   ]
  },
  {
   "cell_type": "code",
   "execution_count": 35,
   "metadata": {
    "collapsed": false
   },
   "outputs": [
    {
     "name": "stdout",
     "output_type": "stream",
     "text": [
      "[22, 13, 13, 10, 225, 117, 106, 87, 74, 0, 0, 0, 227, 0, 0, 0, 0, 0, 0, 0, 0, 0, 0, 0, 0, 3, 0, 0, 0, 64, 0, 0, 0, 115, 45, 0, 0, 0, 100, 0, 0, 90, 0, 0, 100, 1, 0, 90, 1, 0, 101, 2, 0, 101, 0, 0, 101, 1, 0, 20, 131, 1, 0, 1, 100, 2, 0, 100, 3, 0, 100, 4, 0, 132, 1, 0, 90, 3, 0, 100, 5, 0, 83, 41, 6, 233, 3, 0, 0, 0, 122, 6, 72, 101, 108, 108, 111, 32, 233, 1, 0, 0, 0, 99, 1, 0, 0, 0, 0, 0, 0, 0, 3, 0, 0, 0, 2, 0, 0, 0, 79, 0, 0, 0, 115, 4, 0, 0, 0, 100, 3, 0, 83, 41, 4, 78, 233, 7, 0, 0, 0, 114, 1, 0, 0, 0, 233, 10, 0, 0, 0, 169, 0, 41, 3, 218, 1, 97, 218, 1, 98, 218, 1, 99, 114, 5, 0, 0, 0, 114, 5, 0, 0, 0, 250, 65, 47, 104, 111, 109, 101, 47, 112, 118, 105, 107, 116, 111, 114, 105, 47, 100, 101, 118, 47, 115, 108, 105, 100, 101, 115, 47, 50, 48, 49, 54, 45, 48, 54, 45, 50, 50, 45, 112, 121, 115, 105, 108, 101, 115, 105, 97, 45, 98, 121, 116, 101, 99, 111, 100, 101, 47, 109, 111, 100, 117, 108, 101, 46, 112, 121, 218, 4, 102, 117, 110, 99, 5, 0, 0, 0, 115, 2, 0, 0, 0, 0, 1, 114, 10, 0, 0, 0, 78, 41, 4, 114, 6, 0, 0, 0, 114, 7, 0, 0, 0, 218, 5, 112, 114, 105, 110, 116, 114, 10, 0, 0, 0, 114, 5, 0, 0, 0, 114, 5, 0, 0, 0, 114, 5, 0, 0, 0, 114, 9, 0, 0, 0, 218, 8, 60, 109, 111, 100, 117, 108, 101, 62, 1, 0, 0, 0, 115, 6, 0, 0, 0, 6, 1, 6, 1, 14, 2]\n"
     ]
    }
   ],
   "source": [
    "with open('__pycache__/module.cpython-35.pyc', 'rb') as f:\n",
    "    module_bytes = f.read()\n",
    "\n",
    "print(list(module_bytes))"
   ]
  },
  {
   "cell_type": "code",
   "execution_count": 36,
   "metadata": {
    "collapsed": false
   },
   "outputs": [
    {
     "name": "stdout",
     "output_type": "stream",
     "text": [
      "'{\"1\": 2, \"3\": \"abc\", \"4\": [1, 2, 3]}'\n",
      "{'1': 2, '3': 'abc', '4': [1, 2, 3]}\n"
     ]
    }
   ],
   "source": [
    "import json\n",
    "serialized = json.dumps({1: 2, 3: \"abc\", 4: [1, 2, 3]})\n",
    "print(repr(serialized))\n",
    "print(repr(json.loads(serialized)))"
   ]
  },
  {
   "cell_type": "code",
   "execution_count": 37,
   "metadata": {
    "collapsed": false
   },
   "outputs": [
    {
     "name": "stdout",
     "output_type": "stream",
     "text": [
      "<code object <module> at 0x7f4a05b2bf60, file \"/home/pviktori/dev/slides/2016-06-22-pysilesia-bytecode/module.py\", line 1>\n",
      "<code object <module> at 0x7f4a04680420, file \"/home/pviktori/dev/slides/2016-06-22-pysilesia-bytecode/module.py\", line 1>\n"
     ]
    }
   ],
   "source": [
    "import pickle\n",
    "\n",
    "print(code)\n",
    "pickled = pickle.dumps(code)\n",
    "print(pickle.loads(pickled))\n"
   ]
  },
  {
   "cell_type": "code",
   "execution_count": 38,
   "metadata": {
    "collapsed": false
   },
   "outputs": [
    {
     "name": "stdout",
     "output_type": "stream",
     "text": [
      "<code object <module> at 0x7f4a04680390, file \"/home/pviktori/dev/slides/2016-06-22-pysilesia-bytecode/module.py\", line 1>\n"
     ]
    }
   ],
   "source": [
    "import marshal\n",
    "\n",
    "marshalled = marshal.dumps(code)\n",
    "print(marshal.loads(marshalled))\n"
   ]
  },
  {
   "cell_type": "code",
   "execution_count": 39,
   "metadata": {
    "collapsed": false
   },
   "outputs": [
    {
     "name": "stdout",
     "output_type": "stream",
     "text": [
      "[227, 0, 0, 0, 0, 0, 0, 0, 0, 0, 0, 0, 0, 3, 0, 0, 0, 64, 0, 0, 0, 115, 45, 0, 0, 0, 100, 0, 0, 90, 0, 0, 100, 1, 0, 90, 1, 0, 101, 2, 0, 101, 0, 0, 101, 1, 0, 20, 131, 1, 0, 1, 100, 2, 0, 100, 3, 0, 100, 4, 0, 132, 1, 0, 90, 3, 0, 100, 5, 0, 83, 41, 6, 233, 3, 0, 0, 0, 250, 6, 72, 101, 108, 108, 111, 32, 233, 1, 0, 0, 0, 227, 1, 0, 0, 0, 0, 0, 0, 0, 3, 0, 0, 0, 2, 0, 0, 0, 79, 0, 0, 0, 115, 4, 0, 0, 0, 100, 3, 0, 83, 41, 4, 78, 233, 7, 0, 0, 0, 114, 1, 0, 0, 0, 233, 10, 0, 0, 0, 169, 0, 41, 3, 218, 1, 97, 218, 1, 98, 218, 1, 99, 114, 7, 0, 0, 0, 114, 7, 0, 0, 0, 250, 65, 47, 104, 111, 109, 101, 47, 112, 118, 105, 107, 116, 111, 114, 105, 47, 100, 101, 118, 47, 115, 108, 105, 100, 101, 115, 47, 50, 48, 49, 54, 45, 48, 54, 45, 50, 50, 45, 112, 121, 115, 105, 108, 101, 115, 105, 97, 45, 98, 121, 116, 101, 99, 111, 100, 101, 47, 109, 111, 100, 117, 108, 101, 46, 112, 121, 218, 4, 102, 117, 110, 99, 5, 0, 0, 0, 115, 2, 0, 0, 0, 0, 1, 114, 12, 0, 0, 0, 78, 41, 4, 114, 8, 0, 0, 0, 114, 9, 0, 0, 0, 218, 5, 112, 114, 105, 110, 116, 114, 12, 0, 0, 0, 114, 7, 0, 0, 0, 114, 7, 0, 0, 0, 114, 7, 0, 0, 0, 114, 11, 0, 0, 0, 218, 8, 60, 109, 111, 100, 117, 108, 101, 62, 1, 0, 0, 0, 115, 6, 0, 0, 0, 6, 1, 6, 1, 14, 2]\n"
     ]
    }
   ],
   "source": [
    "print(list(marshalled))\n"
   ]
  },
  {
   "cell_type": "code",
   "execution_count": 40,
   "metadata": {
    "collapsed": false
   },
   "outputs": [
    {
     "name": "stdout",
     "output_type": "stream",
     "text": [
      "[22, 13, 13, 10, 225, 117, 106, 87, 74, 0, 0, 0, 227, 0, 0, 0, 0, 0, 0, 0, 0, 0, 0, 0, 0, 3, 0, 0, 0, 64, 0, 0, 0, 115, 45, 0, 0, 0, 100, 0, 0, 90, 0, 0, 100, 1, 0, 90, 1, 0, 101, 2, 0, 101, 0, 0, 101, 1, 0, 20, 131, 1, 0, 1, 100, 2, 0, 100, 3, 0, 100, 4, 0, 132, 1, 0, 90, 3, 0, 100, 5, 0, 83, 41, 6, 233, 3, 0, 0, 0, 122, 6, 72, 101, 108, 108, 111, 32, 233, 1, 0, 0, 0, 99, 1, 0, 0, 0, 0, 0, 0, 0, 3, 0, 0, 0, 2, 0, 0, 0, 79, 0, 0, 0, 115, 4, 0, 0, 0, 100, 3, 0, 83, 41, 4, 78, 233, 7, 0, 0, 0, 114, 1, 0, 0, 0, 233, 10, 0, 0, 0, 169, 0, 41, 3, 218, 1, 97, 218, 1, 98, 218, 1, 99, 114, 5, 0, 0, 0, 114, 5, 0, 0, 0, 250, 65, 47, 104, 111, 109, 101, 47, 112, 118, 105, 107, 116, 111, 114, 105, 47, 100, 101, 118, 47, 115, 108, 105, 100, 101, 115, 47, 50, 48, 49, 54, 45, 48, 54, 45, 50, 50, 45, 112, 121, 115, 105, 108, 101, 115, 105, 97, 45, 98, 121, 116, 101, 99, 111, 100, 101, 47, 109, 111, 100, 117, 108, 101, 46, 112, 121, 218, 4, 102, 117, 110, 99, 5, 0, 0, 0, 115, 2, 0, 0, 0, 0, 1, 114, 10, 0, 0, 0, 78, 41, 4, 114, 6, 0, 0, 0, 114, 7, 0, 0, 0, 218, 5, 112, 114, 105, 110, 116, 114, 10, 0, 0, 0, 114, 5, 0, 0, 0, 114, 5, 0, 0, 0, 114, 5, 0, 0, 0, 114, 9, 0, 0, 0, 218, 8, 60, 109, 111, 100, 117, 108, 101, 62, 1, 0, 0, 0, 115, 6, 0, 0, 0, 6, 1, 6, 1, 14, 2]\n"
     ]
    }
   ],
   "source": [
    "print(list(module_bytes))"
   ]
  },
  {
   "cell_type": "code",
   "execution_count": 41,
   "metadata": {
    "collapsed": false
   },
   "outputs": [
    {
     "data": {
      "text/plain": [
       "True"
      ]
     },
     "execution_count": 41,
     "metadata": {},
     "output_type": "execute_result"
    }
   ],
   "source": [
    "marshal.loads(module_bytes[12:]) == code"
   ]
  },
  {
   "cell_type": "markdown",
   "metadata": {},
   "source": [
    "---"
   ]
  },
  {
   "cell_type": "code",
   "execution_count": 42,
   "metadata": {
    "collapsed": false
   },
   "outputs": [
    {
     "name": "stdout",
     "output_type": "stream",
     "text": [
      "b'\\x16\\r\\r\\n'\n"
     ]
    },
    {
     "data": {
      "text/plain": [
       "[22, 13, 13, 10]"
      ]
     },
     "execution_count": 42,
     "metadata": {},
     "output_type": "execute_result"
    }
   ],
   "source": [
    "print(module_bytes[0:4])\n",
    "list(module_bytes[0:4])"
   ]
  },
  {
   "cell_type": "code",
   "execution_count": 43,
   "metadata": {
    "collapsed": false
   },
   "outputs": [
    {
     "name": "stdout",
     "output_type": "stream",
     "text": [
      "b'\\x16\\r\\r\\n'\n"
     ]
    },
    {
     "data": {
      "text/plain": [
       "[22, 13, 13, 10]"
      ]
     },
     "execution_count": 43,
     "metadata": {},
     "output_type": "execute_result"
    }
   ],
   "source": [
    "import importlib.util\n",
    "print(importlib.util.MAGIC_NUMBER)\n",
    "list(importlib.util.MAGIC_NUMBER)"
   ]
  },
  {
   "cell_type": "markdown",
   "metadata": {},
   "source": [
    "---"
   ]
  },
  {
   "cell_type": "code",
   "execution_count": 44,
   "metadata": {
    "collapsed": false
   },
   "outputs": [
    {
     "name": "stdout",
     "output_type": "stream",
     "text": [
      "b'\\xe1ujW'\n"
     ]
    },
    {
     "data": {
      "text/plain": [
       "[225, 117, 106, 87]"
      ]
     },
     "execution_count": 44,
     "metadata": {},
     "output_type": "execute_result"
    }
   ],
   "source": [
    "print(module_bytes[4:8])\n",
    "list(module_bytes[4:8])"
   ]
  },
  {
   "cell_type": "code",
   "execution_count": 45,
   "metadata": {
    "collapsed": false
   },
   "outputs": [
    {
     "data": {
      "text/plain": [
       "1466594785"
      ]
     },
     "execution_count": 45,
     "metadata": {},
     "output_type": "execute_result"
    }
   ],
   "source": [
    "stamp_value = int.from_bytes(module_bytes[4:8], 'little')\n",
    "stamp_value"
   ]
  },
  {
   "cell_type": "code",
   "execution_count": 46,
   "metadata": {
    "collapsed": false
   },
   "outputs": [
    {
     "data": {
      "text/plain": [
       "'2016-06-22 13:26:25'"
      ]
     },
     "execution_count": 46,
     "metadata": {},
     "output_type": "execute_result"
    }
   ],
   "source": [
    "datetime.datetime.fromtimestamp(stamp_value).isoformat(' ')"
   ]
  },
  {
   "cell_type": "markdown",
   "metadata": {},
   "source": [
    "---"
   ]
  },
  {
   "cell_type": "code",
   "execution_count": 47,
   "metadata": {
    "collapsed": false
   },
   "outputs": [
    {
     "name": "stdout",
     "output_type": "stream",
     "text": [
      "b'J\\x00\\x00\\x00'\n"
     ]
    },
    {
     "data": {
      "text/plain": [
       "[74, 0, 0, 0]"
      ]
     },
     "execution_count": 47,
     "metadata": {},
     "output_type": "execute_result"
    }
   ],
   "source": [
    "print(module_bytes[8:12])\n",
    "list(module_bytes[8:12])"
   ]
  },
  {
   "cell_type": "code",
   "execution_count": 48,
   "metadata": {
    "collapsed": false
   },
   "outputs": [
    {
     "data": {
      "text/plain": [
       "74"
      ]
     },
     "execution_count": 48,
     "metadata": {},
     "output_type": "execute_result"
    }
   ],
   "source": [
    "int.from_bytes(module_bytes[8:12], 'little')"
   ]
  },
  {
   "cell_type": "code",
   "execution_count": 49,
   "metadata": {
    "collapsed": false
   },
   "outputs": [
    {
     "name": "stdout",
     "output_type": "stream",
     "text": [
      "74\n"
     ]
    }
   ],
   "source": [
    "with open('module.py', 'rb') as f:\n",
    "    print(len(f.read()))"
   ]
  },
  {
   "cell_type": "code",
   "execution_count": 50,
   "metadata": {
    "collapsed": false
   },
   "outputs": [
    {
     "data": {
      "text/plain": [
       "os.stat_result(st_mode=33204, st_ino=2513529, st_dev=64768, st_nlink=1, st_uid=1000, st_gid=1000, st_size=74, st_atime=1472134086, st_mtime=1466594785, st_ctime=1466594785)"
      ]
     },
     "execution_count": 50,
     "metadata": {},
     "output_type": "execute_result"
    }
   ],
   "source": [
    "os.stat('module.py')"
   ]
  },
  {
   "cell_type": "markdown",
   "metadata": {},
   "source": [
    "\n",
    "### Summary\n",
    "The `.pyc` file stores the result of the compiler's hard work, so it doesn't have to compile again if the source file is not changed. It is generated (and read) as part of Python's import machinery – i.e. from \"import\" statements, not when running a module directly using `python module.py` or `python -m module`.\n",
    "\n",
    "The “meat” of a `.pyc` file is a code object serialized using the `marshal` module – an efficient format that only supports values that can appear as constants in Python files.\n",
    "The `.pyc` file adds a header to that, leading to this overall structure:\n",
    "\n",
    "* Bytes 0-3: Magic number (identifies a bytecode version)\n",
    "* Bytes 4-7: Modification time of source file\n",
    "* Bytes 8-11: Length of source file (in bytes)\n",
    "* Bytes 12 and on: `marshal`-ed code object"
   ]
  },
  {
   "cell_type": "markdown",
   "metadata": {},
   "source": [
    "---\n",
    "# Functions, Code Objects and Signatures"
   ]
  },
  {
   "cell_type": "code",
   "execution_count": 55,
   "metadata": {
    "collapsed": false
   },
   "outputs": [
    {
     "name": "stdout",
     "output_type": "stream",
     "text": [
      "debug: 3\n",
      "3\n",
      "debug: 4\n",
      "4\n"
     ]
    }
   ],
   "source": [
    "def make_adder(a):\n",
    "    def adder(b:int=2, *args, c: \"(unused)\"=3, **kwargs) -> int:\n",
    "        \"A silly function\"\n",
    "        result = a + b\n",
    "        print('debug:', result)\n",
    "        return result\n",
    "    return adder\n",
    "\n",
    "adder = make_adder(1)\n",
    "\n",
    "print(adder(2))\n",
    "print(adder(3))"
   ]
  },
  {
   "cell_type": "code",
   "execution_count": 56,
   "metadata": {
    "collapsed": false
   },
   "outputs": [
    {
     "name": "stdout",
     "output_type": "stream",
     "text": [
      "__code__:  <code object adder at 0x7f4a04680780, file \"<ipython-input-55-8ecfda3da029>\", line 2>\n",
      "__defaults__:  (2,)\n",
      "__kwdefaults__:  {'c': 3}\n",
      "__qualname__:  make_adder.<locals>.adder\n",
      "__doc__:  A silly function\n",
      "__annotations__:  {'b': <class 'int'>, 'c': '(unused)', 'return': <class 'int'>}\n",
      "__globals__: a dict\n",
      "__closure__:  (<cell at 0x7f4a0858aa08: int object at 0x7f4a19c6d400>,)\n"
     ]
    }
   ],
   "source": [
    "print('__code__: ', adder.__code__)\n",
    "print('__defaults__: ', adder.__defaults__)\n",
    "print('__kwdefaults__: ', adder.__kwdefaults__)\n",
    "print('__qualname__: ', adder.__qualname__)\n",
    "print('__doc__: ', adder.__doc__)\n",
    "print('__annotations__: ', adder.__annotations__)\n",
    "print('__globals__: a', type(adder.__globals__).__name__)\n",
    "print('__closure__: ', adder.__closure__)"
   ]
  },
  {
   "cell_type": "code",
   "execution_count": 60,
   "metadata": {
    "collapsed": false
   },
   "outputs": [
    {
     "name": "stdout",
     "output_type": "stream",
     "text": [
      "<code object adder at 0x7f4a04680780, file \"<ipython-input-55-8ecfda3da029>\", line 2>\n",
      "  co_argcount: 1\n",
      "  co_cellvars: ()\n",
      "  co_code: b'\\x88\\x00\\x00|\\x00\\x00\\x17}\\x04\\x00t\\x00\\x00d\\x01\\x00|\\x04\\x00\\x83\\x02\\x00\\x01|\\x04\\x00S'\n",
      "  co_consts: ('A silly function', 'debug:')\n",
      "  co_filename: <ipython-input-55-8ecfda3da029>\n",
      "  co_firstlineno: 2\n",
      "  co_flags: 31\n",
      "  co_freevars: ('a',)\n",
      "  co_kwonlyargcount: 1\n",
      "  co_lnotab: b'\\x00\\x02\\n\\x01\\r\\x01'\n",
      "  co_name: adder\n",
      "  co_names: ('print',)\n",
      "  co_nlocals: 5\n",
      "  co_stacksize: 3\n",
      "  co_varnames: ('b', 'c', 'args', 'kwargs', 'result')\n"
     ]
    }
   ],
   "source": [
    "dump_code_attrs(adder.__code__)"
   ]
  },
  {
   "cell_type": "code",
   "execution_count": 61,
   "metadata": {
    "collapsed": false
   },
   "outputs": [
    {
     "name": "stdout",
     "output_type": "stream",
     "text": [
      "<code object make_adder at 0x7f4a04680660, file \"<ipython-input-55-8ecfda3da029>\", line 1>\n",
      "  co_argcount: 1\n",
      "  co_cellvars: ('a',)\n",
      "  co_code: b'd\\x01\\x00d\\x02\\x00d\\x03\\x00t\\x00\\x00d\\x04\\x00t\\x00\\x00d\\x05\\x00\\x87\\x00\\x00f\\x01\\x00d\\x06\\x00d\\x07\\x00\\x90\\x04\\x00\\x86\\x01\\x01}\\x01\\x00|\\x01\\x00S'\n",
      "  co_consts: (None, 2, 'c', 3, '(unused)', ('b', 'c', 'return'), <code object adder at 0x7f4a04680780, file \"<ipython-input-55-8ecfda3da029>\", line 2>, 'make_adder.<locals>.adder')\n",
      "  co_filename: <ipython-input-55-8ecfda3da029>\n",
      "  co_firstlineno: 1\n",
      "  co_flags: 3\n",
      "  co_freevars: ()\n",
      "  co_kwonlyargcount: 0\n",
      "  co_lnotab: b'\\x00\\x01*\\x05'\n",
      "  co_name: make_adder\n",
      "  co_names: ('int',)\n",
      "  co_nlocals: 2\n",
      "  co_stacksize: 10\n",
      "  co_varnames: ('a', 'adder')\n"
     ]
    }
   ],
   "source": [
    "dump_code_attrs(make_adder.__code__)"
   ]
  },
  {
   "cell_type": "code",
   "execution_count": 62,
   "metadata": {
    "collapsed": false
   },
   "outputs": [
    {
     "name": "stdout",
     "output_type": "stream",
     "text": [
      "(b:int=2, *args, c:'(unused)'=3, **kwargs) -> int\n"
     ]
    }
   ],
   "source": [
    "sig = inspect.signature(adder)\n",
    "print(sig)"
   ]
  },
  {
   "cell_type": "code",
   "execution_count": 63,
   "metadata": {
    "collapsed": false
   },
   "outputs": [
    {
     "data": {
      "text/plain": [
       "mappingproxy(OrderedDict([('b', <Parameter \"b:int=2\">), ('args', <Parameter \"*args\">), ('c', <Parameter \"c:'(unused)'=3\">), ('kwargs', <Parameter \"**kwargs\">)]))"
      ]
     },
     "execution_count": 63,
     "metadata": {},
     "output_type": "execute_result"
    }
   ],
   "source": [
    "sig.parameters"
   ]
  },
  {
   "cell_type": "code",
   "execution_count": 64,
   "metadata": {
    "collapsed": false
   },
   "outputs": [
    {
     "name": "stdout",
     "output_type": "stream",
     "text": [
      "b: kind=1, default=2, annotation=<class 'int'>\n",
      "args: kind=2, default=<class 'inspect._empty'>, annotation=<class 'inspect._empty'>\n",
      "c: kind=3, default=3, annotation='(unused)'\n",
      "kwargs: kind=4, default=<class 'inspect._empty'>, annotation=<class 'inspect._empty'>\n"
     ]
    }
   ],
   "source": [
    "for name, arg in sig.parameters.items():\n",
    "    print('{a.name}: kind={a.kind}, default={a.default!r}, annotation={a.annotation!r}'.format(a=arg))"
   ]
  },
  {
   "cell_type": "code",
   "execution_count": 65,
   "metadata": {
    "collapsed": false
   },
   "outputs": [
    {
     "data": {
      "text/plain": [
       "int"
      ]
     },
     "execution_count": 65,
     "metadata": {},
     "output_type": "execute_result"
    }
   ],
   "source": [
    "sig.return_annotation"
   ]
  },
  {
   "cell_type": "code",
   "execution_count": 68,
   "metadata": {
    "collapsed": false
   },
   "outputs": [
    {
     "data": {
      "text/plain": [
       "<BoundArguments (b=1, c=2, kwargs={'d': 3})>"
      ]
     },
     "execution_count": 68,
     "metadata": {},
     "output_type": "execute_result"
    }
   ],
   "source": [
    "bound_args = sig.bind(1, c=2, d=3)\n",
    "bound_args"
   ]
  },
  {
   "cell_type": "code",
   "execution_count": 69,
   "metadata": {
    "collapsed": false
   },
   "outputs": [
    {
     "ename": "TypeError",
     "evalue": "got an unexpected keyword argument 'a'",
     "output_type": "error",
     "traceback": [
      "\u001b[1;31m---------------------------------------------------------------------------\u001b[0m",
      "\u001b[1;31mTypeError\u001b[0m                                 Traceback (most recent call last)",
      "\u001b[1;32m<ipython-input-69-47b12d995faf>\u001b[0m in \u001b[0;36m<module>\u001b[1;34m()\u001b[0m\n\u001b[0;32m      3\u001b[0m \u001b[1;33m\u001b[0m\u001b[0m\n\u001b[0;32m      4\u001b[0m \u001b[0msig2\u001b[0m \u001b[1;33m=\u001b[0m \u001b[0minspect\u001b[0m\u001b[1;33m.\u001b[0m\u001b[0msignature\u001b[0m\u001b[1;33m(\u001b[0m\u001b[0mfoo\u001b[0m\u001b[1;33m)\u001b[0m\u001b[1;33m\u001b[0m\u001b[0m\n\u001b[1;32m----> 5\u001b[1;33m \u001b[0msig2\u001b[0m\u001b[1;33m.\u001b[0m\u001b[0mbind\u001b[0m\u001b[1;33m(\u001b[0m\u001b[0ma\u001b[0m\u001b[1;33m=\u001b[0m\u001b[1;36m2\u001b[0m\u001b[1;33m)\u001b[0m\u001b[1;33m\u001b[0m\u001b[0m\n\u001b[0m",
      "\u001b[1;32m/usr/lib64/python3.5/inspect.py\u001b[0m in \u001b[0;36mbind\u001b[1;34m(*args, **kwargs)\u001b[0m\n\u001b[0;32m   2919\u001b[0m         \u001b[1;32mif\u001b[0m \u001b[0mthe\u001b[0m \u001b[0mpassed\u001b[0m \u001b[0marguments\u001b[0m \u001b[0mcan\u001b[0m \u001b[1;32mnot\u001b[0m \u001b[0mbe\u001b[0m \u001b[0mbound\u001b[0m\u001b[1;33m.\u001b[0m\u001b[1;33m\u001b[0m\u001b[0m\n\u001b[0;32m   2920\u001b[0m         \"\"\"\n\u001b[1;32m-> 2921\u001b[1;33m         \u001b[1;32mreturn\u001b[0m \u001b[0margs\u001b[0m\u001b[1;33m[\u001b[0m\u001b[1;36m0\u001b[0m\u001b[1;33m]\u001b[0m\u001b[1;33m.\u001b[0m\u001b[0m_bind\u001b[0m\u001b[1;33m(\u001b[0m\u001b[0margs\u001b[0m\u001b[1;33m[\u001b[0m\u001b[1;36m1\u001b[0m\u001b[1;33m:\u001b[0m\u001b[1;33m]\u001b[0m\u001b[1;33m,\u001b[0m \u001b[0mkwargs\u001b[0m\u001b[1;33m)\u001b[0m\u001b[1;33m\u001b[0m\u001b[0m\n\u001b[0m\u001b[0;32m   2922\u001b[0m \u001b[1;33m\u001b[0m\u001b[0m\n\u001b[0;32m   2923\u001b[0m     \u001b[1;32mdef\u001b[0m \u001b[0mbind_partial\u001b[0m\u001b[1;33m(\u001b[0m\u001b[1;33m*\u001b[0m\u001b[0margs\u001b[0m\u001b[1;33m,\u001b[0m \u001b[1;33m**\u001b[0m\u001b[0mkwargs\u001b[0m\u001b[1;33m)\u001b[0m\u001b[1;33m:\u001b[0m\u001b[1;33m\u001b[0m\u001b[0m\n",
      "\u001b[1;32m/usr/lib64/python3.5/inspect.py\u001b[0m in \u001b[0;36m_bind\u001b[1;34m(self, args, kwargs, partial)\u001b[0m\n\u001b[0;32m   2910\u001b[0m                 raise TypeError(\n\u001b[0;32m   2911\u001b[0m                     'got an unexpected keyword argument {arg!r}'.format(\n\u001b[1;32m-> 2912\u001b[1;33m                         arg=next(iter(kwargs))))\n\u001b[0m\u001b[0;32m   2913\u001b[0m \u001b[1;33m\u001b[0m\u001b[0m\n\u001b[0;32m   2914\u001b[0m         \u001b[1;32mreturn\u001b[0m \u001b[0mself\u001b[0m\u001b[1;33m.\u001b[0m\u001b[0m_bound_arguments_cls\u001b[0m\u001b[1;33m(\u001b[0m\u001b[0mself\u001b[0m\u001b[1;33m,\u001b[0m \u001b[0marguments\u001b[0m\u001b[1;33m)\u001b[0m\u001b[1;33m\u001b[0m\u001b[0m\n",
      "\u001b[1;31mTypeError\u001b[0m: got an unexpected keyword argument 'a'"
     ]
    }
   ],
   "source": [
    "def foo():\n",
    "    ...\n",
    "\n",
    "sig2 = inspect.signature(foo)\n",
    "sig2.bind(a=2)"
   ]
  },
  {
   "cell_type": "code",
   "execution_count": 71,
   "metadata": {
    "collapsed": false
   },
   "outputs": [
    {
     "name": "stdout",
     "output_type": "stream",
     "text": [
      "debug: 2\n"
     ]
    },
    {
     "data": {
      "text/plain": [
       "2"
      ]
     },
     "execution_count": 71,
     "metadata": {},
     "output_type": "execute_result"
    }
   ],
   "source": [
    "adder(*bound_args.args, **bound_args.kwargs)"
   ]
  },
  {
   "cell_type": "code",
   "execution_count": null,
   "metadata": {
    "collapsed": true
   },
   "outputs": [],
   "source": [
    "def on_click(x, y):\n",
    "    print(x, y)\n",
    "\n",
    "myframework.set_click_handler(on_click)\n"
   ]
  },
  {
   "cell_type": "code",
   "execution_count": 79,
   "metadata": {
    "collapsed": false
   },
   "outputs": [
    {
     "name": "stdout",
     "output_type": "stream",
     "text": [
      "\n",
      " 0:  100      1: LOAD_CONST(1)\n",
      " 3:  125      0: STORE_FAST(a)\n",
      "\n",
      " 6:  100      2: LOAD_CONST(2)\n",
      " 9:  125      1: STORE_FAST(b)\n",
      "\n",
      "12:  100      3: LOAD_CONST(3)\n",
      "15:  125      2: STORE_FAST(c)\n",
      "\n",
      "18:  100      4: LOAD_CONST(4)\n",
      "21:  125      3: STORE_FAST(d)\n",
      "\n",
      "24:  100      1: LOAD_CONST(1)\n",
      "27:  124      0: LOAD_FAST(a)\n",
      "30:  100      2: LOAD_CONST(2)\n",
      "33:    3      -: ROT_THREE()\n",
      "34:    2      -: ROT_TWO()\n",
      "35:  125      0: STORE_FAST(a)\n",
      "38:  125      1: STORE_FAST(b)\n",
      "41:  125      2: STORE_FAST(c)\n",
      "\n",
      "44:  100      1: LOAD_CONST(1)\n",
      "47:  100      2: LOAD_CONST(2)\n",
      "50:  100      3: LOAD_CONST(3)\n",
      "53:  103      3: BUILD_LIST()\n",
      "56:  124      1: LOAD_FAST(b)\n",
      "59:  116      0: LOAD_GLOBAL(print)\n",
      "62:  124      2: LOAD_FAST(c)\n",
      "65:  131      1: CALL_FUNCTION(1 positional, 0 keyword pair)\n",
      "68:  116      0: LOAD_GLOBAL(print)\n",
      "71:  124      0: LOAD_FAST(a)\n",
      "74:  131      1: CALL_FUNCTION(1 positional, 0 keyword pair)\n",
      "77:  102      4: BUILD_TUPLE()\n",
      "80:   92      4: UNPACK_SEQUENCE()\n",
      "83:  125      0: STORE_FAST(a)\n",
      "86:  124      0: LOAD_FAST(a)\n",
      "89:  100      5: LOAD_CONST(0)\n",
      "92:   60      -: STORE_SUBSCR()\n",
      "93:  125      2: STORE_FAST(c)\n",
      "96:  125      3: STORE_FAST(d)\n",
      "99:  100      0: LOAD_CONST(None)\n",
      "102:   83      -: RETURN_VALUE()\n"
     ]
    }
   ],
   "source": [
    "def demo():\n",
    "    a = 1\n",
    "    b = 2\n",
    "    c = 3\n",
    "    d = 4\n",
    "    \n",
    "    a, b, c  =1, a, 2\n",
    "    \n",
    "    a, a[0], c, d = [1, 2, 3], b, print(c), print(a)\n",
    "\n",
    "print_dis(demo.__code__)"
   ]
  },
  {
   "cell_type": "code",
   "execution_count": null,
   "metadata": {
    "collapsed": true
   },
   "outputs": [],
   "source": []
  },
  {
   "cell_type": "markdown",
   "metadata": {},
   "source": [
    "### Summary\n",
    "Python's *functions* are mutable objects, each of which holds an immutable code object. Data related to code execution, like variable names and constant values, are stored in the code object. Extra data that's only needed when calling the function, such as default argument values, is stored on the function.\n",
    "\n",
    "Data related to arguments – their names, values, and annotations – are stored in a format that's convenient for calling and running the function. When you need to inspect them, you can use a helper called `inspect.signature`, which exposes them in a more usable way."
   ]
  },
  {
   "cell_type": "markdown",
   "metadata": {},
   "source": [
    "---\n",
    "# Line Numbers"
   ]
  },
  {
   "cell_type": "code",
   "execution_count": 80,
   "metadata": {
    "collapsed": false
   },
   "outputs": [
    {
     "name": "stdout",
     "output_type": "stream",
     "text": [
      "\n",
      " 0:  116      0: LOAD_GLOBAL(print)\n",
      " 3:  100      1: LOAD_CONST(1)\n",
      " 6:  100      2: LOAD_CONST(0)\n",
      " 9:   27      -: BINARY_TRUE_DIVIDE()\n",
      "10:  131      1: CALL_FUNCTION(1 positional, 0 keyword pair)\n",
      "13:    1      -: POP_TOP()\n",
      "14:  100      0: LOAD_CONST(None)\n",
      "17:   83      -: RETURN_VALUE()\n"
     ]
    }
   ],
   "source": [
    "def oops():\n",
    "    print(1/0)\n",
    "\n",
    "print_dis(oops.__code__)"
   ]
  },
  {
   "cell_type": "code",
   "execution_count": 81,
   "metadata": {
    "collapsed": false
   },
   "outputs": [
    {
     "ename": "ZeroDivisionError",
     "evalue": "division by zero",
     "output_type": "error",
     "traceback": [
      "\u001b[1;31m---------------------------------------------------------------------------\u001b[0m",
      "\u001b[1;31mZeroDivisionError\u001b[0m                         Traceback (most recent call last)",
      "\u001b[1;32m<ipython-input-81-dffa40f44842>\u001b[0m in \u001b[0;36m<module>\u001b[1;34m()\u001b[0m\n\u001b[1;32m----> 1\u001b[1;33m \u001b[0moops\u001b[0m\u001b[1;33m(\u001b[0m\u001b[1;33m)\u001b[0m\u001b[1;33m\u001b[0m\u001b[0m\n\u001b[0m",
      "\u001b[1;32m<ipython-input-80-25a8fbcc65a6>\u001b[0m in \u001b[0;36moops\u001b[1;34m()\u001b[0m\n\u001b[0;32m      1\u001b[0m \u001b[1;32mdef\u001b[0m \u001b[0moops\u001b[0m\u001b[1;33m(\u001b[0m\u001b[1;33m)\u001b[0m\u001b[1;33m:\u001b[0m\u001b[1;33m\u001b[0m\u001b[0m\n\u001b[1;32m----> 2\u001b[1;33m     \u001b[0mprint\u001b[0m\u001b[1;33m(\u001b[0m\u001b[1;36m1\u001b[0m\u001b[1;33m/\u001b[0m\u001b[1;36m0\u001b[0m\u001b[1;33m)\u001b[0m\u001b[1;33m\u001b[0m\u001b[0m\n\u001b[0m\u001b[0;32m      3\u001b[0m \u001b[1;33m\u001b[0m\u001b[0m\n\u001b[0;32m      4\u001b[0m \u001b[0mprint_dis\u001b[0m\u001b[1;33m(\u001b[0m\u001b[0moops\u001b[0m\u001b[1;33m.\u001b[0m\u001b[0m__code__\u001b[0m\u001b[1;33m)\u001b[0m\u001b[1;33m\u001b[0m\u001b[0m\n",
      "\u001b[1;31mZeroDivisionError\u001b[0m: division by zero"
     ]
    }
   ],
   "source": [
    "oops()"
   ]
  },
  {
   "cell_type": "code",
   "execution_count": 82,
   "metadata": {
    "collapsed": false
   },
   "outputs": [
    {
     "name": "stdout",
     "output_type": "stream",
     "text": [
      "a = 3\r\n",
      "b = 'Hello '\r\n",
      "print(a * b)\r\n",
      "\r\n",
      "def func(a=1, *b, **c):\r\n",
      "    return 7 + 3\r\n"
     ]
    }
   ],
   "source": [
    "!cat module.py"
   ]
  },
  {
   "cell_type": "code",
   "execution_count": 83,
   "metadata": {
    "collapsed": false
   },
   "outputs": [
    {
     "name": "stdout",
     "output_type": "stream",
     "text": [
      "<code object <module> at 0x7f4a05b2bf60, file \"/home/pviktori/dev/slides/2016-06-22-pysilesia-bytecode/module.py\", line 1>\n",
      "  co_argcount: 0\n",
      "  co_cellvars: ()\n",
      "  co_code: b'd\\x00\\x00Z\\x00\\x00d\\x01\\x00Z\\x01\\x00e\\x02\\x00e\\x00\\x00e\\x01\\x00\\x14\\x83\\x01\\x00\\x01d\\x02\\x00d\\x03\\x00d\\x04\\x00\\x84\\x01\\x00Z\\x03\\x00d\\x05\\x00S'\n",
      "  co_consts: (3, 'Hello ', 1, <code object func at 0x7f4a05b2bb70, file \"/home/pviktori/dev/slides/2016-06-22-pysilesia-bytecode/module.py\", line 5>, 'func', None)\n",
      "  co_filename: /home/pviktori/dev/slides/2016-06-22-pysilesia-bytecode/module.py\n",
      "  co_firstlineno: 1\n",
      "  co_flags: 64\n",
      "  co_freevars: ()\n",
      "  co_kwonlyargcount: 0\n",
      "  co_lnotab: b'\\x06\\x01\\x06\\x01\\x0e\\x02'\n",
      "  co_name: <module>\n",
      "  co_names: ('a', 'b', 'print', 'func')\n",
      "  co_nlocals: 0\n",
      "  co_stacksize: 3\n",
      "  co_varnames: ()\n"
     ]
    }
   ],
   "source": [
    "dump_code_attrs(code)"
   ]
  },
  {
   "cell_type": "code",
   "execution_count": 84,
   "metadata": {
    "collapsed": false
   },
   "outputs": [
    {
     "name": "stdout",
     "output_type": "stream",
     "text": [
      "  1           0 LOAD_CONST               0 (3)\r\n",
      "              3 STORE_NAME               0 (a)\r\n",
      "\r\n",
      "  2           6 LOAD_CONST               1 ('Hello ')\r\n",
      "              9 STORE_NAME               1 (b)\r\n",
      "\r\n",
      "  3          12 LOAD_NAME                0 (a)\r\n",
      "             15 LOAD_NAME                1 (b)\r\n",
      "             18 BINARY_MULTIPLY     \r\n",
      "             19 PRINT_ITEM          \r\n",
      "             20 PRINT_NEWLINE       \r\n",
      "\r\n",
      "  5          21 LOAD_CONST               2 (1)\r\n",
      "             24 LOAD_CONST               3 (<code object func at 0x7feaad75c830, file \"module.py\", line 5>)\r\n",
      "             27 MAKE_FUNCTION            1\r\n",
      "             30 STORE_NAME               2 (func)\r\n",
      "             33 LOAD_CONST               4 (None)\r\n",
      "             36 RETURN_VALUE        \r\n"
     ]
    }
   ],
   "source": [
    "!python -m dis module.py"
   ]
  },
  {
   "cell_type": "code",
   "execution_count": null,
   "metadata": {
    "collapsed": true
   },
   "outputs": [],
   "source": [
    "\n",
    "\n"
   ]
  },
  {
   "cell_type": "code",
   "execution_count": 85,
   "metadata": {
    "collapsed": false,
    "scrolled": false
   },
   "outputs": [
    {
     "data": {
      "text/plain": [
       "[6, 1, 6, 1, 14, 2]"
      ]
     },
     "execution_count": 85,
     "metadata": {},
     "output_type": "execute_result"
    }
   ],
   "source": [
    "list(code.co_lnotab)"
   ]
  },
  {
   "cell_type": "code",
   "execution_count": 86,
   "metadata": {
    "collapsed": false
   },
   "outputs": [
    {
     "data": {
      "text/plain": [
       "[(6, 1), (6, 1), (14, 2)]"
      ]
     },
     "execution_count": 86,
     "metadata": {},
     "output_type": "execute_result"
    }
   ],
   "source": [
    "list(zip(code.co_lnotab[::2], code.co_lnotab[1::2]))"
   ]
  },
  {
   "cell_type": "code",
   "execution_count": null,
   "metadata": {
    "collapsed": false
   },
   "outputs": [],
   "source": [
    "lst = [1, 2, 3]\n",
    "        \n",
    "print(lst)"
   ]
  },
  {
   "cell_type": "markdown",
   "metadata": {},
   "source": [
    "### Summary\n",
    "When Python needs to determine which line number a particular bytecode offset belongs to, it can use the line number table, or `lnotab`. The lnotab holds pairs of bytes saying, effectively, how many bytes correspond to how many lines.\n",
    "\n",
    "The numbers can't be negative – an instruction can never refer to an earlier line than the instruction before it. The bytecode generator never goes \"backwards\".\n",
    "\n",
    "A full explanation is in the file `Objects/lnotab_notes.txt` in Python sources."
   ]
  },
  {
   "cell_type": "markdown",
   "metadata": {},
   "source": [
    "---\n",
    "# Frames\n",
    "Code objects, functions, and frames"
   ]
  },
  {
   "cell_type": "code",
   "execution_count": 87,
   "metadata": {
    "collapsed": false
   },
   "outputs": [
    {
     "data": {
      "text/plain": [
       "<frame at 0x7f4a0468f630>"
      ]
     },
     "execution_count": 87,
     "metadata": {},
     "output_type": "execute_result"
    }
   ],
   "source": [
    "def inner():\n",
    "    a = 1\n",
    "    frame = inspect.currentframe()\n",
    "    return frame\n",
    "def outer():\n",
    "    return inner()\n",
    "\n",
    "frame = outer()\n",
    "frame"
   ]
  },
  {
   "cell_type": "code",
   "execution_count": 88,
   "metadata": {
    "collapsed": false
   },
   "outputs": [
    {
     "name": "stdout",
     "output_type": "stream",
     "text": [
      "f_code: <code object inner at 0x7f4a046804b0, file \"<ipython-input-87-4b25b15e8d9e>\", line 1>\n",
      "f_lasti: 15\n",
      "f_lineno: 3\n",
      "f_locals: {'a': 1}\n",
      "f_back: <frame object at 0x55dcd21e6ed8>\n"
     ]
    }
   ],
   "source": [
    "print('f_code:', frame.f_code)\n",
    "print('f_lasti:', frame.f_lasti)\n",
    "print('f_lineno:', frame.f_lineno)\n",
    "print('f_locals:', frame.f_locals)\n",
    "print('f_back:', frame.f_back)"
   ]
  },
  {
   "cell_type": "code",
   "execution_count": 89,
   "metadata": {
    "collapsed": false
   },
   "outputs": [
    {
     "name": "stdout",
     "output_type": "stream",
     "text": [
      "f_code: <code object outer at 0x7f4a04680c90, file \"<ipython-input-87-4b25b15e8d9e>\", line 4>\n",
      "f_lasti: 6\n",
      "f_lineno: 5\n",
      "f_locals: {}\n",
      "f_back: <frame object at 0x55dcd22129e8>\n"
     ]
    }
   ],
   "source": [
    "print('f_code:', frame.f_back.f_code)\n",
    "print('f_lasti:', frame.f_back.f_lasti)\n",
    "print('f_lineno:', frame.f_back.f_lineno)\n",
    "print('f_locals:', frame.f_back.f_locals)\n",
    "print('f_back:', frame.f_back.f_back)"
   ]
  },
  {
   "cell_type": "code",
   "execution_count": 90,
   "metadata": {
    "collapsed": false
   },
   "outputs": [
    {
     "name": "stdout",
     "output_type": "stream",
     "text": [
      "inner:     return inspect.currentframe()\n",
      "\n",
      "outer:     return inner()\n",
      "\n"
     ]
    }
   ],
   "source": [
    "def get_current_line(frame):\n",
    "    lines = inspect.getsourcelines(frame.f_code)[0]\n",
    "    index = frame.f_lineno - frame.f_code.co_firstlineno\n",
    "    return '{}: {}'.format(frame.f_code.co_name, lines[index])\n",
    "\n",
    "print(get_current_line(frame))\n",
    "print(get_current_line(frame.f_back))\n"
   ]
  },
  {
   "cell_type": "code",
   "execution_count": 91,
   "metadata": {
    "collapsed": false
   },
   "outputs": [
    {
     "name": "stdout",
     "output_type": "stream",
     "text": [
      "  File \"/usr/lib64/python3.5/runpy.py\", line 170, in _run_module_as_main\n",
      "    \"__main__\", mod_spec)\n",
      "  File \"/usr/lib64/python3.5/runpy.py\", line 85, in _run_code\n",
      "    exec(code, run_globals)\n",
      "  File \"/usr/lib/python3.5/site-packages/IPython/kernel/__main__.py\", line 3, in <module>\n",
      "    app.launch_new_instance()\n",
      "  File \"/usr/lib/python3.5/site-packages/IPython/config/application.py\", line 574, in launch_instance\n",
      "    app.start()\n",
      "  File \"/usr/lib/python3.5/site-packages/IPython/kernel/zmq/kernelapp.py\", line 373, in start\n",
      "    ioloop.IOLoop.instance().start()\n",
      "  File \"/usr/lib64/python3.5/site-packages/zmq/eventloop/ioloop.py\", line 151, in start\n",
      "    super(ZMQIOLoop, self).start()\n",
      "  File \"/usr/lib64/python3.5/site-packages/tornado/ioloop.py\", line 882, in start\n",
      "    handler_func(fd_obj, events)\n",
      "  File \"/usr/lib64/python3.5/site-packages/tornado/stack_context.py\", line 274, in null_wrapper\n",
      "    return fn(*args, **kwargs)\n",
      "  File \"/usr/lib64/python3.5/site-packages/zmq/eventloop/zmqstream.py\", line 433, in _handle_events\n",
      "    self._handle_recv()\n",
      "  File \"/usr/lib64/python3.5/site-packages/zmq/eventloop/zmqstream.py\", line 465, in _handle_recv\n",
      "    self._run_callback(callback, msg)\n",
      "  File \"/usr/lib64/python3.5/site-packages/zmq/eventloop/zmqstream.py\", line 407, in _run_callback\n",
      "    callback(*args, **kwargs)\n",
      "  File \"/usr/lib64/python3.5/site-packages/tornado/stack_context.py\", line 274, in null_wrapper\n",
      "    return fn(*args, **kwargs)\n",
      "  File \"/usr/lib/python3.5/site-packages/IPython/kernel/zmq/kernelbase.py\", line 252, in dispatcher\n",
      "    return self.dispatch_shell(stream, msg)\n",
      "  File \"/usr/lib/python3.5/site-packages/IPython/kernel/zmq/kernelbase.py\", line 213, in dispatch_shell\n",
      "    handler(stream, idents, msg)\n",
      "  File \"/usr/lib/python3.5/site-packages/IPython/kernel/zmq/kernelbase.py\", line 362, in execute_request\n",
      "    user_expressions, allow_stdin)\n",
      "  File \"/usr/lib/python3.5/site-packages/IPython/kernel/zmq/ipkernel.py\", line 181, in do_execute\n",
      "    shell.run_cell(code, store_history=store_history, silent=silent)\n",
      "  File \"/usr/lib/python3.5/site-packages/IPython/core/interactiveshell.py\", line 2871, in run_cell\n",
      "    interactivity=interactivity, compiler=compiler, result=result)\n",
      "  File \"/usr/lib/python3.5/site-packages/IPython/core/interactiveshell.py\", line 2981, in run_ast_nodes\n",
      "    if self.run_code(code, result):\n",
      "  File \"/usr/lib/python3.5/site-packages/IPython/core/interactiveshell.py\", line 3035, in run_code\n",
      "    exec(code_obj, self.user_global_ns, self.user_ns)\n",
      "  File \"<ipython-input-91-872246ffc080>\", line 8, in <module>\n",
      "    print(''.join(recurse()))\n",
      "  File \"<ipython-input-91-872246ffc080>\", line 6, in recurse\n",
      "    return recurse(wait-1)\n",
      "  File \"<ipython-input-91-872246ffc080>\", line 6, in recurse\n",
      "    return recurse(wait-1)\n",
      "  File \"<ipython-input-91-872246ffc080>\", line 6, in recurse\n",
      "    return recurse(wait-1)\n",
      "  File \"<ipython-input-91-872246ffc080>\", line 6, in recurse\n",
      "    return recurse(wait-1)\n",
      "  File \"<ipython-input-91-872246ffc080>\", line 6, in recurse\n",
      "    return recurse(wait-1)\n",
      "  File \"<ipython-input-91-872246ffc080>\", line 6, in recurse\n",
      "    return recurse(wait-1)\n",
      "  File \"<ipython-input-91-872246ffc080>\", line 6, in recurse\n",
      "    return recurse(wait-1)\n",
      "  File \"<ipython-input-91-872246ffc080>\", line 6, in recurse\n",
      "    return recurse(wait-1)\n",
      "  File \"<ipython-input-91-872246ffc080>\", line 6, in recurse\n",
      "    return recurse(wait-1)\n",
      "  File \"<ipython-input-91-872246ffc080>\", line 6, in recurse\n",
      "    return recurse(wait-1)\n",
      "  File \"<ipython-input-91-872246ffc080>\", line 6, in recurse\n",
      "    return recurse(wait-1)\n",
      "  File \"<ipython-input-91-872246ffc080>\", line 4, in recurse\n",
      "    return traceback.format_stack()\n",
      "\n"
     ]
    }
   ],
   "source": [
    "import traceback\n",
    "def recurse(wait=10):\n",
    "    if wait < 0:\n",
    "        return traceback.format_stack()\n",
    "    else:\n",
    "        return recurse(wait-1)\n",
    "\n",
    "print(''.join(recurse()))"
   ]
  },
  {
   "cell_type": "code",
   "execution_count": 92,
   "metadata": {
    "collapsed": false
   },
   "outputs": [
    {
     "name": "stdout",
     "output_type": "stream",
     "text": [
      "1, 2, 3\n"
     ]
    }
   ],
   "source": [
    "def fmt(string):\n",
    "    parent_frame = inspect.currentframe().f_back\n",
    "    return string.format(**parent_frame.f_locals)\n",
    "\n",
    "a = 1\n",
    "b = 2\n",
    "c = 3\n",
    "\n",
    "print(fmt(\"{a}, {b}, {c}\"))\n"
   ]
  },
  {
   "cell_type": "markdown",
   "metadata": {},
   "source": [
    "### Summary\n",
    "When code is executed, there exists a `frame` object for each running function. This object contains the current instruction, values of local variables, and a pointer to the \"parent\" frame, from which the current function was called.\n",
    "\n",
    "A traceback is generated by walking from the current frame to its parent, its parent's parent, and so on. Each time the current line is looked up based on the current instruction. (This lookup only takes place when the traceback is actually printed)."
   ]
  },
  {
   "cell_type": "markdown",
   "metadata": {},
   "source": [
    "---\n",
    "# Questions ?\n",
    "\n",
    "<br>\n",
    "\n",
    "> Petr Viktorin\n",
    ">\n",
    "> encukou@gmail.com\n",
    ">\n",
    "> @encukou"
   ]
  },
  {
   "cell_type": "code",
   "execution_count": null,
   "metadata": {
    "collapsed": true
   },
   "outputs": [],
   "source": []
  }
 ],
 "metadata": {
  "kernelspec": {
   "display_name": "Python 3",
   "language": "python",
   "name": "python3"
  },
  "language_info": {
   "codemirror_mode": {
    "name": "ipython",
    "version": 3
   },
   "file_extension": ".py",
   "mimetype": "text/x-python",
   "name": "python",
   "nbconvert_exporter": "python",
   "pygments_lexer": "ipython3",
   "version": "3.5.1"
  }
 },
 "nbformat": 4,
 "nbformat_minor": 0
}
